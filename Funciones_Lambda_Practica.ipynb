{
  "cells": [
    {
      "cell_type": "markdown",
      "metadata": {
        "id": "view-in-github",
        "colab_type": "text"
      },
      "source": [
        "<a href=\"https://colab.research.google.com/github/Sicofina/Sico/blob/main/Funciones_Lambda_Practica.ipynb\" target=\"_parent\"><img src=\"https://colab.research.google.com/assets/colab-badge.svg\" alt=\"Open In Colab\"/></a>"
      ]
    },
    {
      "cell_type": "markdown",
      "metadata": {
        "id": "TaUHmEHQ5G-7"
      },
      "source": [
        "### Ejercicios:\n",
        "\n",
        "1- En este ejercicio, practicará cómo escribir una función lambda simple y llamar a esta función.\n",
        "   Recuerde lo que sabe sobre las funciones lambda y responda las siguientes preguntas:\n",
        "\n",
        "   * ¿Cómo escribirías una función lambda **add_bangs** que agregue tres signos de exclamación _'!!!'_ al final de una cadena a?\n",
        "   * ¿Cómo llamarías **add_bangs** con el argumento _'hello'_?"
      ]
    },
    {
      "cell_type": "markdown",
      "metadata": {
        "id": "iC7_xPya5G-8"
      },
      "source": [
        "### Resolución"
      ]
    },
    {
      "cell_type": "code",
      "execution_count": null,
      "metadata": {
        "id": "E_cmlfP05G-8",
        "outputId": "bb2c4111-d455-46b3-9aa9-8372e77ffe8f",
        "colab": {
          "base_uri": "https://localhost:8080/"
        }
      },
      "outputs": [
        {
          "output_type": "execute_result",
          "data": {
            "text/plain": [
              "'hello!!!'"
            ],
            "application/vnd.google.colaboratory.intrinsic+json": {
              "type": "string"
            }
          },
          "metadata": {},
          "execution_count": 1
        }
      ],
      "source": [
        "# Definimos la función lambda\n",
        "add_bangs = lambda a: a + '!!!'\n",
        "\n",
        "# Llamamos la función con 'hello'\n",
        "add_bangs('hello')"
      ]
    },
    {
      "cell_type": "markdown",
      "metadata": {
        "id": "X_kvUXli5G-8"
      },
      "source": [
        "2- Complete la función y calcule el cubo de algún número:\n",
        "\n",
        "```\n",
        "cube = lambda x: ...\n",
        "```"
      ]
    },
    {
      "cell_type": "markdown",
      "metadata": {
        "id": "4jrZkNXf5G-8"
      },
      "source": [
        "### Resolución"
      ]
    },
    {
      "cell_type": "code",
      "execution_count": null,
      "metadata": {
        "id": "s7v_D-FX5G-8"
      },
      "outputs": [],
      "source": [
        "# Definimos la función lambda para el cubo\n",
        "cube = lambda x: x**3\n",
        "\n",
        "# Probamos la función con un número\n",
        "cube(3)"
      ]
    },
    {
      "cell_type": "markdown",
      "metadata": {
        "id": "fxFCWmAY5G-9"
      },
      "source": [
        "3- Filtre de la siguiente lista solo los valores numéricos y adicionalmente calcule el cubo de cada uno de esos valores."
      ]
    },
    {
      "cell_type": "code",
      "execution_count": null,
      "metadata": {
        "id": "3rbDbEOq5G-9"
      },
      "outputs": [],
      "source": [
        "# Lista de valores\n",
        "values = [2, \"Hola\", 3, 500, \"Mundo\", \"!\"]\n",
        "\n",
        "# Filtrar los valores numéricos y calcular el cubo\n",
        "numeric_values = list(filter(lambda x: isinstance(x, (int, float)), values))\n",
        "cubed_values = list(map(lambda x: x**3, numeric_values))\n",
        "\n",
        "cubed_values"
      ]
    }
  ],
  "metadata": {
    "colab": {
      "provenance": [],
      "include_colab_link": true
    },
    "kernelspec": {
      "display_name": "Python 3",
      "language": "python",
      "name": "python3"
    },
    "language_info": {
      "codemirror_mode": {
        "name": "ipython",
        "version": 3
      },
      "file_extension": ".py",
      "mimetype": "text/x-python",
      "name": "python",
      "nbconvert_exporter": "python",
      "pygments_lexer": "ipython3",
      "version": "3.8.10"
    }
  },
  "nbformat": 4,
  "nbformat_minor": 0
}