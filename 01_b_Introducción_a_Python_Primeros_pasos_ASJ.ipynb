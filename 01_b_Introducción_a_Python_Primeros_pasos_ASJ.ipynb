{
  "cells": [
    {
      "cell_type": "markdown",
      "metadata": {
        "id": "view-in-github",
        "colab_type": "text"
      },
      "source": [
        "<a href=\"https://colab.research.google.com/github/Sicofina/Sico/blob/main/01_b_Introducci%C3%B3n_a_Python_Primeros_pasos_ASJ.ipynb\" target=\"_parent\"><img src=\"https://colab.research.google.com/assets/colab-badge.svg\" alt=\"Open In Colab\"/></a>"
      ]
    },
    {
      "cell_type": "markdown",
      "metadata": {
        "id": "s8khowoZBLql"
      },
      "source": [
        "# Primeros Pasos\n",
        "\n",
        "## Funciones\n",
        "\n",
        "Una **función** es un conjunto de instrucciones que están asociados a un *nombre*, acepta (o no) *argumentos* y devuelve un *valor* (o realiza una acción o procedimiento).\n",
        "\n",
        "En el ejemplo anterior, vimos cómo llamamos a la función `print` y le pasamos como argumento el texto: `Hola Mundo!` por eso nos mostró en pantalla ese texto."
      ]
    },
    {
      "cell_type": "code",
      "metadata": {
        "id": "XYyFwRc_BLqm"
      },
      "source": [
        "print(\"Hola Mundo!\")"
      ],
      "outputs": [],
      "execution_count": null
    },
    {
      "cell_type": "code",
      "metadata": {
        "id": "6kyxvLgHBLqm"
      },
      "source": [
        "print(\"Qué bueno que está Python\")"
      ],
      "outputs": [],
      "execution_count": null
    },
    {
      "cell_type": "markdown",
      "metadata": {
        "id": "470MYREoBLqn"
      },
      "source": [
        "### Ahora experimentá un poco con la función `print`\n",
        "\n",
        "En la siguiente celda hacé que Python escriba tu nombre:"
      ]
    },
    {
      "cell_type": "code",
      "metadata": {
        "id": "co72xDqrBLqn"
      },
      "source": [],
      "outputs": [],
      "execution_count": null
    },
    {
      "cell_type": "markdown",
      "metadata": {
        "id": "QhF9T5j1BLqn"
      },
      "source": [
        "## Variables\n",
        "\n",
        "Una **variable** es un \"espacio de memoria\" que nos sirve para guardar un *valor*. En Python, para definir una **variable** lo que tenemos que hacer es ponerle un *nombre* y asignarle un *valor*.\n",
        "\n",
        "Por ejemplo, creemos una variable que se llame `x` y guardemos en ella el valor `10`."
      ]
    },
    {
      "cell_type": "code",
      "metadata": {
        "id": "x9IbNrZWBLqn"
      },
      "source": [],
      "outputs": [],
      "execution_count": null
    },
    {
      "cell_type": "markdown",
      "metadata": {
        "id": "A7yRAL4JBLqn"
      },
      "source": [
        "Notemos que luego de ejecutar la instrucción `x = 10`, no tenemos ninguna devolución. Y que para asignar el valor a la variable utilizamos el **operador de asignación** que es el signo `=`.\n",
        "\n",
        "Si queremos ver el valor que tiene asignada la variable `x`, sólo debemos escribir `x` (el nombre de la variable) y darle \"play\" para que nos muestre el valor."
      ]
    },
    {
      "cell_type": "code",
      "metadata": {
        "id": "J8rWYFI8BLqn"
      },
      "source": [
        "x"
      ],
      "outputs": [],
      "execution_count": null
    },
    {
      "cell_type": "markdown",
      "metadata": {
        "id": "wUhIUd4qBLqn"
      },
      "source": [
        "\n",
        "\n",
        "> _Aclaración_: funciona de esta manera en el intérprete de Python. Si estuviéramos ejecutando esto en un **script**\n",
        "para poder ver el contenido de la variable debemos usar la función `print`.\n",
        "\n",
        "\n",
        "Las variables en Python pueden guardar cualquier cosa válida en Python."
      ]
    },
    {
      "cell_type": "code",
      "metadata": {
        "id": "luigSNdkBLqn"
      },
      "source": [
        "# Definimos la variable \"a\" y le asignamos el valor 12\n",
        "a = 12\n",
        "a"
      ],
      "outputs": [],
      "execution_count": null
    },
    {
      "cell_type": "markdown",
      "metadata": {
        "id": "qeV3awo5BLqo"
      },
      "source": [
        "## Expresiones\n",
        "\n",
        "Son conjuntos de símbolos que el intérprete de Python puede evaluar para obtener un **valor**.\n"
      ]
    },
    {
      "cell_type": "code",
      "metadata": {
        "id": "4duw3JatBLqo"
      },
      "source": [
        "3 + 4"
      ],
      "outputs": [],
      "execution_count": null
    },
    {
      "cell_type": "code",
      "metadata": {
        "id": "gIusWkS1BLqo"
      },
      "source": [
        "5 - 2"
      ],
      "outputs": [],
      "execution_count": null
    },
    {
      "cell_type": "code",
      "metadata": {
        "id": "He5uNqUSBLqo"
      },
      "source": [
        "\"#Python es una gran experiencia!\""
      ],
      "outputs": [],
      "execution_count": null
    },
    {
      "cell_type": "code",
      "metadata": {
        "id": "KIrdZShaBLqo"
      },
      "source": [
        "a = (10 + 2) / 3\n",
        "a"
      ],
      "outputs": [],
      "execution_count": null
    },
    {
      "cell_type": "markdown",
      "metadata": {
        "id": "iJj1v5_yBLqo"
      },
      "source": [
        "## Funciones, Variables y Expresiones\n",
        "\n",
        "Todo esto se puede combinar, por ejemplo, podemos usar una expresión que guardamos en una variable y usamos la función `print` para mostrar el resultado."
      ]
    },
    {
      "cell_type": "code",
      "metadata": {
        "id": "Efk-xxXDBLqo"
      },
      "source": [
        "x = 18 + 25\n",
        "print(x)"
      ],
      "outputs": [],
      "execution_count": null
    },
    {
      "cell_type": "markdown",
      "metadata": {
        "id": "QQyLGCibBLqo"
      },
      "source": [
        "## Animate y probá combinando lo que recién aprendiste...\n",
        "\n",
        "Guardá tu nombre y tu edad en una variable e intentá hacer que Python te imprima un mensaje de saludo."
      ]
    },
    {
      "cell_type": "code",
      "metadata": {
        "id": "F7nHBA7QBLqo"
      },
      "source": [
        "nombre =\n",
        "edad ="
      ],
      "outputs": [],
      "execution_count": null
    },
    {
      "cell_type": "code",
      "metadata": {
        "id": "N3e4EznwBLqo"
      },
      "source": [
        "print()"
      ],
      "outputs": [],
      "execution_count": null
    }
  ],
  "metadata": {
    "colab": {
      "provenance": [],
      "include_colab_link": true
    }
  },
  "nbformat": 4,
  "nbformat_minor": 0
}