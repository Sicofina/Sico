{
  "cells": [
    {
      "cell_type": "markdown",
      "metadata": {
        "id": "view-in-github",
        "colab_type": "text"
      },
      "source": [
        "<a href=\"https://colab.research.google.com/github/Sicofina/Sico/blob/main/modelo_prediccion_movimientos.ipynb\" target=\"_parent\"><img src=\"https://colab.research.google.com/assets/colab-badge.svg\" alt=\"Open In Colab\"/></a>"
      ]
    },
    {
      "cell_type": "code",
      "execution_count": null,
      "metadata": {
        "id": "import_libraries"
      },
      "outputs": [],
      "source": [
        "# Importar librerías necesarias\n",
        "import numpy as np\n",
        "import pandas as pd\n",
        "import matplotlib.pyplot as plt\n",
        "from sklearn.linear_model import LinearRegression\n",
        "from sklearn.preprocessing import PolynomialFeatures\n",
        "from sklearn.pipeline import make_pipeline"
      ]
    },
    {
      "cell_type": "code",
      "execution_count": null,
      "metadata": {
        "id": "load_data"
      },
      "outputs": [],
      "source": [
        "# Simulación de datos de movimientos de la nave enemiga\n",
        "# Datos proporcionados por el usuario\n",
        "movimientos = [\n",
        "    {'tiempo': 1, 'x': 10, 'y': 20},\n",
        "    {'tiempo': 2, 'x': 15, 'y': 25},\n",
        "    {'tiempo': 3, 'x': 21, 'y': 31}\n",
        "]\n",
        "\n",
        "# Convertir a DataFrame\n",
        "df = pd.DataFrame(movimientos)\n",
        "df"
      ]
    },
    {
      "cell_type": "code",
      "execution_count": null,
      "metadata": {
        "id": "plot_movements"
      },
      "outputs": [],
      "source": [
        "# Visualizar los movimientos de la nave\n",
        "plt.figure(figsize=(8, 5))\n",
        "plt.plot(df['x'], df['y'], marker='o', linestyle='-', label='Trayectoria')\n",
        "plt.xlabel('Posición X')\n",
        "plt.ylabel('Posición Y')\n",
        "plt.title('Movimiento de la nave enemiga')\n",
        "plt.legend()\n",
        "plt.grid()\n",
        "plt.show()"
      ]
    },
    {
      "cell_type": "code",
      "execution_count": null,
      "metadata": {
        "id": "predict_next_position"
      },
      "outputs": [],
      "source": [
        "# Predicción de la próxima posición con regresión polinómica\n",
        "X = df[['tiempo']].values\n",
        "y_x = df['x'].values\n",
        "y_y = df['y'].values\n",
        "\n",
        "# Crear modelo de regresión polinómica\n",
        "degree = 2  # Ajustar según sea necesario\n",
        "model_x = make_pipeline(PolynomialFeatures(degree), LinearRegression())\n",
        "model_y = make_pipeline(PolynomialFeatures(degree), LinearRegression())\n",
        "\n",
        "# Ajustar los modelos\n",
        "model_x.fit(X, y_x)\n",
        "model_y.fit(X, y_y)\n",
        "\n",
        "# Predecir para el siguiente tiempo\n",
        "next_tiempo = np.array([[4]])\n",
        "next_x = model_x.predict(next_tiempo)[0]\n",
        "next_y = model_y.predict(next_tiempo)[0]\n",
        "\n",
        "print(f'Posición predicha para tiempo {next_tiempo[0][0]}: X={next_x:.2f}, Y={next_y:.2f}')"
      ]
    }
  ],
  "metadata": {
    "kernelspec": {
      "display_name": "Python 3",
      "language": "python",
      "name": "python3"
    },
    "language_info": {
      "codemirror_mode": {
        "name": "ipython",
        "version": 3
      },
      "file_extension": ".py",
      "mimetype": "text/x-python",
      "name": "python",
      "nbconvert_exporter": "python",
      "pygments_lexer": "ipython3",
      "version": "3.8.10"
    },
    "colab": {
      "provenance": [],
      "include_colab_link": true
    }
  },
  "nbformat": 4,
  "nbformat_minor": 0
}