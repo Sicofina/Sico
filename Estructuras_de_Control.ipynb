{
  "cells": [
    {
      "cell_type": "markdown",
      "metadata": {
        "id": "view-in-github",
        "colab_type": "text"
      },
      "source": [
        "<a href=\"https://colab.research.google.com/github/Sicofina/Sico/blob/main/Estructuras_de_Control.ipynb\" target=\"_parent\"><img src=\"https://colab.research.google.com/assets/colab-badge.svg\" alt=\"Open In Colab\"/></a>"
      ]
    },
    {
      "cell_type": "markdown",
      "id": "8749390d",
      "metadata": {
        "id": "8749390d"
      },
      "source": [
        "### Enunciado\n",
        "Hacer un ciclo con while que haga un print de cada número entre 0 y 5. Luego debe imprimir \"final\"."
      ]
    },
    {
      "cell_type": "markdown",
      "id": "534e7f74",
      "metadata": {
        "id": "534e7f74"
      },
      "source": [
        "### Resolución"
      ]
    },
    {
      "cell_type": "code",
      "execution_count": null,
      "id": "47abbd70",
      "metadata": {
        "id": "47abbd70",
        "colab": {
          "base_uri": "https://localhost:8080/"
        },
        "outputId": "88b52678-6ea6-4112-acfc-e7e63641da6d"
      },
      "outputs": [
        {
          "output_type": "stream",
          "name": "stdout",
          "text": [
            "0\n",
            "1\n",
            "2\n",
            "3\n",
            "4\n",
            "5\n",
            "final\n"
          ]
        }
      ],
      "source": [
        "i = 0\n",
        "while i <= 5:\n",
        "    print(i)\n",
        "    i += 1\n",
        "print(\"final\")"
      ]
    },
    {
      "cell_type": "markdown",
      "id": "2e1809cc",
      "metadata": {
        "id": "2e1809cc"
      },
      "source": [
        "### Enunciado\n",
        "Crear una lista con las siguientes cadenas de texto:\n",
        "```\n",
        "\"datalytics\", \"análisis\", \"datos\", \"minería\", \"aprendizaje\", \"dashboard\", \"tablero de control\", \"análisis de sentimientos\", \"series de tiempo\", \"clasificación de imágenes\", \"datalytics\", \"data warehouse\", \"data mart\", \"radar\", \"ETL\", \"OLAP\", \"SQL\", \"NoSQL\", \"Python\", \"R\", \"Hadoop\", \"Spark\"\n",
        "```\n",
        "Si la palabra 'datalytics' aparece más de una vez, imprimir:\n",
        "\"Datalytics existe más de 1 vez en todo el texto\"\n",
        "Si no, imprimir:\n",
        "\"Mejor con datos\"."
      ]
    },
    {
      "cell_type": "markdown",
      "id": "55012dd3",
      "metadata": {
        "id": "55012dd3"
      },
      "source": [
        "### Resolución"
      ]
    },
    {
      "cell_type": "code",
      "execution_count": null,
      "id": "e5e6a478",
      "metadata": {
        "colab": {
          "base_uri": "https://localhost:8080/"
        },
        "id": "e5e6a478",
        "outputId": "043ea2c4-dcc9-4cf9-d0ab-afbb6d26a730"
      },
      "outputs": [
        {
          "output_type": "stream",
          "name": "stdout",
          "text": [
            "Datalytics existe más de 1 vez en todo el texto\n"
          ]
        }
      ],
      "source": [
        "lista = [\"datalytics\", \"análisis\", \"datos\", \"minería\", \"aprendizaje\", \"dashboard\", \"tablero de control\", \"análisis de sentimientos\", \"series de tiempo\", \"clasificación de imágenes\", \"datalytics\", \"data warehouse\", \"data mart\", \"radar\", \"ETL\", \"OLAP\", \"SQL\", \"NoSQL\", \"Python\", \"R\", \"Hadoop\", \"Spark\"]\n",
        "\n",
        "if lista.count(\"datalytics\") > 1:\n",
        "    print(\"Datalytics existe más de 1 vez en todo el texto\")\n",
        "else:\n",
        "    print(\"Mejor con datos\")"
      ]
    },
    {
      "cell_type": "markdown",
      "id": "bdbdf942",
      "metadata": {
        "id": "bdbdf942"
      },
      "source": [
        "### Enunciado\n",
        "Recorrer la lista y si se encuentra la palabra \"datalytics\", imprimir las últimas 4 palabras antes de su aparición."
      ]
    },
    {
      "cell_type": "markdown",
      "id": "377657f3",
      "metadata": {
        "id": "377657f3"
      },
      "source": [
        "### Resolución"
      ]
    },
    {
      "cell_type": "code",
      "execution_count": null,
      "id": "c5fae4b5",
      "metadata": {
        "colab": {
          "base_uri": "https://localhost:8080/"
        },
        "id": "c5fae4b5",
        "outputId": "78741eec-b780-4dee-94bb-fc9bb4af1883"
      },
      "outputs": [
        {
          "output_type": "stream",
          "name": "stdout",
          "text": [
            "Últimas 4 palabras antes de 'datalytics': ['tablero de control', 'análisis de sentimientos', 'series de tiempo', 'clasificación de imágenes']\n"
          ]
        }
      ],
      "source": [
        "for i in range(len(lista)):\n",
        "    if lista[i] == \"datalytics\" and i >= 4:\n",
        "        print(\"Últimas 4 palabras antes de 'datalytics':\", lista[i-4:i])"
      ]
    },
    {
      "cell_type": "markdown",
      "id": "f5c860f9",
      "metadata": {
        "id": "f5c860f9"
      },
      "source": [
        "### Enunciado\n",
        "Imprimir las cadenas de la lista que tengan más de 5 caracteres y contengan una letra con tilde."
      ]
    },
    {
      "cell_type": "markdown",
      "id": "c88307d4",
      "metadata": {
        "id": "c88307d4"
      },
      "source": [
        "### Resolución"
      ]
    },
    {
      "cell_type": "code",
      "execution_count": null,
      "id": "6ac2553e",
      "metadata": {
        "colab": {
          "base_uri": "https://localhost:8080/"
        },
        "id": "6ac2553e",
        "outputId": "eecadffa-6024-47ff-c1a5-6d2115742e86"
      },
      "outputs": [
        {
          "output_type": "stream",
          "name": "stdout",
          "text": [
            "Palabras con tilde y más de 5 caracteres: ['análisis', 'minería', 'análisis de sentimientos', 'clasificación de imágenes']\n"
          ]
        }
      ],
      "source": [
        "palabras_con_tilde = [palabra for palabra in lista if len(palabra) > 5 and any(letra in \"áéíóú\" for letra in palabra)]\n",
        "print(\"Palabras con tilde y más de 5 caracteres:\", palabras_con_tilde)"
      ]
    },
    {
      "cell_type": "code",
      "source": [
        "nueva_lista = []\n",
        "\n",
        "tildes = 'áéíóúÁÉÍÓÚ'\n",
        "\n",
        "for palabra in lista:\n",
        "    if len(palabra) > 5:\n",
        "        for caracter in tildes:\n",
        "            if caracter in palabra:\n",
        "                nueva_lista.append(palabra)\n",
        "                break\n",
        "\n",
        "print(f\"La nueva lista es : {nueva_lista}\")\n"
      ],
      "metadata": {
        "colab": {
          "base_uri": "https://localhost:8080/"
        },
        "id": "QTzAoi_X5kJy",
        "outputId": "b5775f5e-bb7c-4234-f343-8eb4e35f1859"
      },
      "id": "QTzAoi_X5kJy",
      "execution_count": null,
      "outputs": [
        {
          "output_type": "stream",
          "name": "stdout",
          "text": [
            "La nueva lista es : ['análisis', 'minería', 'análisis de sentimientos', 'clasificación de imágenes']\n"
          ]
        }
      ]
    },
    {
      "cell_type": "markdown",
      "id": "b58364bb",
      "metadata": {
        "id": "b58364bb"
      },
      "source": [
        "### Enunciado\n",
        "Recorrer la lista e imprimir los palíndromos (palabras que se leen igual de derecha a izquierda)."
      ]
    },
    {
      "cell_type": "markdown",
      "id": "166c9447",
      "metadata": {
        "id": "166c9447"
      },
      "source": [
        "### Resolución"
      ]
    },
    {
      "cell_type": "code",
      "source": [
        "nueva_lista = []\n",
        "\n",
        "for palabra in lista:\n",
        "    if palabra == palabra[::-1]:\n",
        "        nueva_lista.append(palabra)\n",
        "\n",
        "print(f\"Palíndromos en la lista: {nueva_lista}\")\n"
      ],
      "metadata": {
        "colab": {
          "base_uri": "https://localhost:8080/"
        },
        "id": "hP2kXAFR8_zU",
        "outputId": "b676d803-b62a-4c3f-9a5f-f8bc176259f1"
      },
      "id": "hP2kXAFR8_zU",
      "execution_count": null,
      "outputs": [
        {
          "output_type": "stream",
          "name": "stdout",
          "text": [
            "Palíndromos en la lista: ['radar', 'R']\n"
          ]
        }
      ]
    },
    {
      "cell_type": "code",
      "execution_count": null,
      "id": "a548f77b",
      "metadata": {
        "colab": {
          "base_uri": "https://localhost:8080/"
        },
        "id": "a548f77b",
        "outputId": "9d311929-1d13-477b-8d59-d54788de434e"
      },
      "outputs": [
        {
          "output_type": "stream",
          "name": "stdout",
          "text": [
            "Palíndromos en la lista: ['radar', 'R']\n"
          ]
        }
      ],
      "source": [
        "palindromos = [palabra for palabra in lista if palabra == palabra[::-1]]\n",
        "print(\"Palíndromos en la lista:\", palindromos)"
      ]
    },
    {
      "cell_type": "markdown",
      "id": "b77f56f0",
      "metadata": {
        "id": "b77f56f0"
      },
      "source": [
        "### Enunciado\n",
        "Crear una variable `numero` con valor inicial 1.\n",
        "Iterar hasta que `numero` sea menor o igual a 100, dentro del ciclo chequear si `numero` es primo e imprimirlo."
      ]
    },
    {
      "cell_type": "markdown",
      "id": "3453609b",
      "metadata": {
        "id": "3453609b"
      },
      "source": [
        "### Resolución"
      ]
    },
    {
      "cell_type": "code",
      "source": [
        "nueva_lista = []\n",
        "\n",
        "for numero in range(1, 101):\n",
        "    if numero < 2:\n",
        "        continue\n",
        "    es_primo = True\n",
        "    for i in range(2, int(numero ** 0.5) + 1):\n",
        "        if numero % i == 0:\n",
        "            es_primo = False\n",
        "            break\n",
        "    if es_primo:\n",
        "        nueva_lista.append(numero)\n",
        "\n",
        "print(f\"Números primos en la lista: {nueva_lista}\")\n"
      ],
      "metadata": {
        "colab": {
          "base_uri": "https://localhost:8080/"
        },
        "id": "OGa7oH4k9V15",
        "outputId": "ddfef1d0-7f1f-42cb-9c00-8b2998519f25"
      },
      "id": "OGa7oH4k9V15",
      "execution_count": null,
      "outputs": [
        {
          "output_type": "stream",
          "name": "stdout",
          "text": [
            "Números primos en la lista: [2, 3, 5, 7, 11, 13, 17, 19, 23, 29, 31, 37, 41, 43, 47, 53, 59, 61, 67, 71, 73, 79, 83, 89, 97]\n"
          ]
        }
      ]
    },
    {
      "cell_type": "code",
      "execution_count": null,
      "id": "9bc825c5",
      "metadata": {
        "id": "9bc825c5",
        "colab": {
          "base_uri": "https://localhost:8080/"
        },
        "outputId": "d1c0c56e-2a6b-48aa-ac65-20dd9f2b84d9"
      },
      "outputs": [
        {
          "output_type": "stream",
          "name": "stdout",
          "text": [
            "2 es primo\n",
            "3 es primo\n",
            "5 es primo\n",
            "7 es primo\n",
            "11 es primo\n",
            "13 es primo\n",
            "17 es primo\n",
            "19 es primo\n",
            "23 es primo\n",
            "29 es primo\n",
            "31 es primo\n",
            "37 es primo\n",
            "41 es primo\n",
            "43 es primo\n",
            "47 es primo\n",
            "53 es primo\n",
            "59 es primo\n",
            "61 es primo\n",
            "67 es primo\n",
            "71 es primo\n",
            "73 es primo\n",
            "79 es primo\n",
            "83 es primo\n",
            "89 es primo\n",
            "97 es primo\n"
          ]
        }
      ],
      "source": [
        "def es_primo(n):\n",
        "    if n < 2:\n",
        "        return False\n",
        "    for i in range(2, int(n ** 0.5) + 1):\n",
        "        if n % i == 0:\n",
        "            return False\n",
        "    return True\n",
        "\n",
        "numero = 1\n",
        "while numero <= 100:\n",
        "    if es_primo(numero):\n",
        "        print(f\"{numero} es primo\")\n",
        "    numero += 1"
      ]
    }
  ],
  "metadata": {
    "colab": {
      "provenance": [],
      "include_colab_link": true
    },
    "language_info": {
      "name": "python"
    },
    "kernelspec": {
      "name": "python3",
      "display_name": "Python 3"
    }
  },
  "nbformat": 4,
  "nbformat_minor": 5
}