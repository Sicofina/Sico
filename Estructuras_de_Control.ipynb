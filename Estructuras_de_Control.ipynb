{
  "cells": [
    {
      "cell_type": "markdown",
      "metadata": {
        "id": "view-in-github",
        "colab_type": "text"
      },
      "source": [
        "<a href=\"https://colab.research.google.com/github/Sicofina/Sico/blob/main/Estructuras_de_Control.ipynb\" target=\"_parent\"><img src=\"https://colab.research.google.com/assets/colab-badge.svg\" alt=\"Open In Colab\"/></a>"
      ]
    },
    {
      "cell_type": "markdown",
      "id": "8749390d",
      "metadata": {
        "id": "8749390d"
      },
      "source": [
        "### Enunciado\n",
        "Hacer un ciclo con while que haga un print de cada número entre 0 y 5. Luego debe imprimir \"final\"."
      ]
    },
    {
      "cell_type": "markdown",
      "id": "534e7f74",
      "metadata": {
        "id": "534e7f74"
      },
      "source": [
        "### Resolución"
      ]
    },
    {
      "cell_type": "code",
      "execution_count": null,
      "id": "47abbd70",
      "metadata": {
        "id": "47abbd70"
      },
      "outputs": [],
      "source": [
        "i = 0\n",
        "while i <= 5:\n",
        "    print(i)\n",
        "    i += 1\n",
        "print(\"final\")"
      ]
    },
    {
      "cell_type": "markdown",
      "id": "2e1809cc",
      "metadata": {
        "id": "2e1809cc"
      },
      "source": [
        "### Enunciado\n",
        "Crear una lista con las siguientes cadenas de texto:\n",
        "```\n",
        "\"datalytics\", \"análisis\", \"datos\", \"minería\", \"aprendizaje\", \"dashboard\", \"tablero de control\", \"análisis de sentimientos\", \"series de tiempo\", \"clasificación de imágenes\", \"datalytics\", \"data warehouse\", \"data mart\", \"radar\", \"ETL\", \"OLAP\", \"SQL\", \"NoSQL\", \"Python\", \"R\", \"Hadoop\", \"Spark\"\n",
        "```\n",
        "Si la palabra 'datalytics' aparece más de una vez, imprimir:\n",
        "\"Datalytics existe más de 1 vez en todo el texto\"\n",
        "Si no, imprimir:\n",
        "\"Mejor con datos\"."
      ]
    },
    {
      "cell_type": "markdown",
      "id": "55012dd3",
      "metadata": {
        "id": "55012dd3"
      },
      "source": [
        "### Resolución"
      ]
    },
    {
      "cell_type": "code",
      "execution_count": null,
      "id": "e5e6a478",
      "metadata": {
        "id": "e5e6a478"
      },
      "outputs": [],
      "source": [
        "lista = [\"datalytics\", \"análisis\", \"datos\", \"minería\", \"aprendizaje\", \"dashboard\", \"tablero de control\", \"análisis de sentimientos\", \"series de tiempo\", \"clasificación de imágenes\", \"datalytics\", \"data warehouse\", \"data mart\", \"radar\", \"ETL\", \"OLAP\", \"SQL\", \"NoSQL\", \"Python\", \"R\", \"Hadoop\", \"Spark\"]\n",
        "\n",
        "if lista.count(\"datalytics\") > 1:\n",
        "    print(\"Datalytics existe más de 1 vez en todo el texto\")\n",
        "else:\n",
        "    print(\"Mejor con datos\")"
      ]
    },
    {
      "cell_type": "markdown",
      "id": "bdbdf942",
      "metadata": {
        "id": "bdbdf942"
      },
      "source": [
        "### Enunciado\n",
        "Recorrer la lista y si se encuentra la palabra \"datalytics\", imprimir las últimas 4 palabras antes de su aparición."
      ]
    },
    {
      "cell_type": "markdown",
      "id": "377657f3",
      "metadata": {
        "id": "377657f3"
      },
      "source": [
        "### Resolución"
      ]
    },
    {
      "cell_type": "code",
      "execution_count": null,
      "id": "c5fae4b5",
      "metadata": {
        "id": "c5fae4b5"
      },
      "outputs": [],
      "source": [
        "for i in range(len(lista)):\n",
        "    if lista[i] == \"datalytics\" and i >= 4:\n",
        "        print(\"Últimas 4 palabras antes de 'datalytics':\", lista[i-4:i])"
      ]
    },
    {
      "cell_type": "markdown",
      "id": "f5c860f9",
      "metadata": {
        "id": "f5c860f9"
      },
      "source": [
        "### Enunciado\n",
        "Imprimir las cadenas de la lista que tengan más de 5 caracteres y contengan una letra con tilde."
      ]
    },
    {
      "cell_type": "markdown",
      "id": "c88307d4",
      "metadata": {
        "id": "c88307d4"
      },
      "source": [
        "### Resolución"
      ]
    },
    {
      "cell_type": "code",
      "execution_count": null,
      "id": "6ac2553e",
      "metadata": {
        "id": "6ac2553e"
      },
      "outputs": [],
      "source": [
        "palabras_con_tilde = [palabra for palabra in lista if len(palabra) > 5 and any(letra in \"áéíóú\" for letra in palabra)]\n",
        "print(\"Palabras con tilde y más de 5 caracteres:\", palabras_con_tilde)"
      ]
    },
    {
      "cell_type": "markdown",
      "id": "b58364bb",
      "metadata": {
        "id": "b58364bb"
      },
      "source": [
        "### Enunciado\n",
        "Recorrer la lista e imprimir los palíndromos (palabras que se leen igual de derecha a izquierda)."
      ]
    },
    {
      "cell_type": "markdown",
      "id": "166c9447",
      "metadata": {
        "id": "166c9447"
      },
      "source": [
        "### Resolución"
      ]
    },
    {
      "cell_type": "code",
      "execution_count": null,
      "id": "a548f77b",
      "metadata": {
        "id": "a548f77b"
      },
      "outputs": [],
      "source": [
        "palindromos = [palabra for palabra in lista if palabra == palabra[::-1]]\n",
        "print(\"Palíndromos en la lista:\", palindromos)"
      ]
    },
    {
      "cell_type": "markdown",
      "id": "b77f56f0",
      "metadata": {
        "id": "b77f56f0"
      },
      "source": [
        "### Enunciado\n",
        "Crear una variable `numero` con valor inicial 1.\n",
        "Iterar hasta que `numero` sea menor o igual a 100, dentro del ciclo chequear si `numero` es primo e imprimirlo."
      ]
    },
    {
      "cell_type": "markdown",
      "id": "3453609b",
      "metadata": {
        "id": "3453609b"
      },
      "source": [
        "### Resolución"
      ]
    },
    {
      "cell_type": "code",
      "execution_count": null,
      "id": "9bc825c5",
      "metadata": {
        "id": "9bc825c5"
      },
      "outputs": [],
      "source": [
        "def es_primo(n):\n",
        "    if n < 2:\n",
        "        return False\n",
        "    for i in range(2, int(n ** 0.5) + 1):\n",
        "        if n % i == 0:\n",
        "            return False\n",
        "    return True\n",
        "\n",
        "numero = 1\n",
        "while numero <= 100:\n",
        "    if es_primo(numero):\n",
        "        print(f\"{numero} es primo\")\n",
        "    numero += 1"
      ]
    }
  ],
  "metadata": {
    "colab": {
      "provenance": [],
      "include_colab_link": true
    }
  },
  "nbformat": 4,
  "nbformat_minor": 5
}