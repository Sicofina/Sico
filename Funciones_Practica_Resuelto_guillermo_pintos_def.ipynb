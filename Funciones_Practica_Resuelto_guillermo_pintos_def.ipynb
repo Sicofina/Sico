{
  "cells": [
    {
      "cell_type": "markdown",
      "metadata": {
        "id": "view-in-github",
        "colab_type": "text"
      },
      "source": [
        "<a href=\"https://colab.research.google.com/github/Sicofina/Sico/blob/main/Funciones_Practica_Resuelto_guillermo_pintos_def.ipynb\" target=\"_parent\"><img src=\"https://colab.research.google.com/assets/colab-badge.svg\" alt=\"Open In Colab\"/></a>"
      ]
    },
    {
      "cell_type": "markdown",
      "id": "9f333711",
      "metadata": {
        "id": "9f333711"
      },
      "source": [
        "# Funciones - Práctica\n",
        "\n",
        "Este notebook contiene ejercicios sobre funciones en Python, incluyendo el uso de argumentos, estructuras de control y cálculos con listas.\n",
        "    "
      ]
    },
    {
      "cell_type": "markdown",
      "id": "674e5a6a",
      "metadata": {
        "id": "674e5a6a"
      },
      "source": [
        "## Ejercicio 1"
      ]
    },
    {
      "cell_type": "markdown",
      "id": "e14b3d41",
      "metadata": {
        "id": "e14b3d41"
      },
      "source": [
        "Tomar los datos del primer ejercicio de \"Estructuras de datos\" y agregar los siguientes datos:\n",
        "\n",
        "| **Código** | **Nombre** | **Población** |\n",
        "|------------|-----------|--------------|\n",
        "| SR         | Surinam   |  612.985     |\n",
        "| LU         | Luxemburgo | 640.064     |\n",
        "| MC         | Monaco    |  36.686      |\n"
      ]
    },
    {
      "cell_type": "code",
      "execution_count": 1,
      "id": "5e1cd3c3",
      "metadata": {
        "colab": {
          "base_uri": "https://localhost:8080/"
        },
        "id": "5e1cd3c3",
        "outputId": "c210489c-e24c-49ae-ca8a-5cdaa6198ad7"
      },
      "outputs": [
        {
          "output_type": "stream",
          "name": "stdout",
          "text": [
            "Datos agregados correctamente: {'SR': {'nombre': 'Surinam', 'poblacion': 612985}, 'LU': {'nombre': 'Luxemburgo', 'poblacion': 640064}, 'MC': {'nombre': 'Mónaco', 'poblacion': 36686}}\n"
          ]
        }
      ],
      "source": [
        "# Solución del Ejercicio 1\n",
        "paises = {\n",
        "    \"SR\": {\"nombre\": \"Surinam\", \"poblacion\": 612985},\n",
        "    \"LU\": {\"nombre\": \"Luxemburgo\", \"poblacion\": 640064},\n",
        "    \"MC\": {\"nombre\": \"Mónaco\", \"poblacion\": 36686}\n",
        "}\n",
        "print(\"Datos agregados correctamente:\", paises)\n"
      ]
    },
    {
      "cell_type": "markdown",
      "id": "6d1c6a7b",
      "metadata": {
        "id": "6d1c6a7b"
      },
      "source": [
        "## Ejercicio 2"
      ]
    },
    {
      "cell_type": "markdown",
      "id": "778a81c6",
      "metadata": {
        "id": "778a81c6"
      },
      "source": [
        "Calcular el total de la población de los países mencionados usando bucles.\n"
      ]
    },
    {
      "cell_type": "code",
      "execution_count": 2,
      "id": "b9169e41",
      "metadata": {
        "colab": {
          "base_uri": "https://localhost:8080/"
        },
        "id": "b9169e41",
        "outputId": "5d31f30a-1845-4b20-8d47-5666eb7ab416"
      },
      "outputs": [
        {
          "output_type": "stream",
          "name": "stdout",
          "text": [
            "Total de población: 1289735\n"
          ]
        }
      ],
      "source": [
        "# Solución del Ejercicio 2\n",
        "total_poblacion = sum(pais[\"poblacion\"] for pais in paises.values())\n",
        "print(f\"Total de población: {total_poblacion}\")\n"
      ]
    },
    {
      "cell_type": "markdown",
      "id": "3ad6d5cf",
      "metadata": {
        "id": "3ad6d5cf"
      },
      "source": [
        "## Ejercicio 3"
      ]
    },
    {
      "cell_type": "markdown",
      "id": "a7be1b68",
      "metadata": {
        "id": "a7be1b68"
      },
      "source": [
        "Crear una función que resuma los números de la población de la siguiente manera:\n",
        "- 1.000.000.000 -> 1MM\n",
        "- 1.000.000 -> 1M\n",
        "- 1000 -> 1k\n"
      ]
    },
    {
      "cell_type": "code",
      "execution_count": 3,
      "id": "72e20dbe",
      "metadata": {
        "colab": {
          "base_uri": "https://localhost:8080/"
        },
        "id": "72e20dbe",
        "outputId": "cf8a3f29-257e-4cd1-ce97-4ffba2d70648"
      },
      "outputs": [
        {
          "output_type": "stream",
          "name": "stdout",
          "text": [
            "Surinam: 613.0k\n",
            "Luxemburgo: 640.1k\n",
            "Mónaco: 36.7k\n"
          ]
        }
      ],
      "source": [
        "# Solución del Ejercicio 3\n",
        "def resumir_poblacion(numero):\n",
        "    if numero >= 1_000_000_000:\n",
        "        return f\"{numero / 1_000_000_000:.1f}MM\"\n",
        "    elif numero >= 1_000_000:\n",
        "        return f\"{numero / 1_000_000:.1f}M\"\n",
        "    elif numero >= 1000:\n",
        "        return f\"{numero / 1000:.1f}k\"\n",
        "    return str(numero)\n",
        "\n",
        "for codigo, datos in paises.items():\n",
        "    print(f\"{datos['nombre']}: {resumir_poblacion(datos['poblacion'])}\")\n"
      ]
    },
    {
      "cell_type": "markdown",
      "id": "839a6059",
      "metadata": {
        "id": "839a6059"
      },
      "source": [
        "## Ejercicio 4"
      ]
    },
    {
      "cell_type": "markdown",
      "id": "2267deab",
      "metadata": {
        "id": "2267deab"
      },
      "source": [
        "Construir una función que recorra una lista y devuelva la suma de todos los valores numéricos.\n",
        "    \n",
        "Lista: `[1,4,6,8,11,23,45,56,7777,88,99]`\n"
      ]
    },
    {
      "cell_type": "code",
      "execution_count": 4,
      "id": "e0ae868a",
      "metadata": {
        "colab": {
          "base_uri": "https://localhost:8080/"
        },
        "id": "e0ae868a",
        "outputId": "ddc79480-6d75-4100-b10b-8427d6de9e19"
      },
      "outputs": [
        {
          "output_type": "stream",
          "name": "stdout",
          "text": [
            "Suma de valores: 8118\n"
          ]
        }
      ],
      "source": [
        "# Solución del Ejercicio 4\n",
        "def sumar_lista(lista):\n",
        "    return sum(lista)\n",
        "\n",
        "lista = [1,4,6,8,11,23,45,56,7777,88,99]\n",
        "print(\"Suma de valores:\", sumar_lista(lista))\n"
      ]
    }
  ],
  "metadata": {
    "colab": {
      "provenance": [],
      "include_colab_link": true
    },
    "language_info": {
      "name": "python"
    },
    "kernelspec": {
      "name": "python3",
      "display_name": "Python 3"
    }
  },
  "nbformat": 4,
  "nbformat_minor": 5
}