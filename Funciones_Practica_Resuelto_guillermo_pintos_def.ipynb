{
  "cells": [
    {
      "cell_type": "markdown",
      "metadata": {
        "id": "view-in-github",
        "colab_type": "text"
      },
      "source": [
        "<a href=\"https://colab.research.google.com/github/Sicofina/Sico/blob/main/Funciones_Practica_Resuelto_guillermo_pintos_def.ipynb\" target=\"_parent\"><img src=\"https://colab.research.google.com/assets/colab-badge.svg\" alt=\"Open In Colab\"/></a>"
      ]
    },
    {
      "cell_type": "markdown",
      "id": "9f333711",
      "metadata": {
        "id": "9f333711"
      },
      "source": [
        "# Funciones - Práctica\n",
        "\n",
        "Este notebook contiene ejercicios sobre funciones en Python, incluyendo el uso de argumentos, estructuras de control y cálculos con listas.\n",
        "    "
      ]
    },
    {
      "cell_type": "markdown",
      "id": "674e5a6a",
      "metadata": {
        "id": "674e5a6a"
      },
      "source": [
        "## Ejercicio 1"
      ]
    },
    {
      "cell_type": "markdown",
      "id": "e14b3d41",
      "metadata": {
        "id": "e14b3d41"
      },
      "source": [
        "Tomar los datos del primer ejercicio de \"Estructuras de datos\" y agregar los siguientes datos:\n",
        "\n",
        "| **Código** | **Nombre** | **Población** |\n",
        "|------------|-----------|--------------|\n",
        "| SR         | Surinam   |  612.985     |\n",
        "| LU         | Luxemburgo | 640.064     |\n",
        "| MC         | Monaco    |  36.686      |\n"
      ]
    },
    {
      "cell_type": "code",
      "execution_count": 1,
      "id": "5e1cd3c3",
      "metadata": {
        "colab": {
          "base_uri": "https://localhost:8080/"
        },
        "id": "5e1cd3c3",
        "outputId": "02d76569-bb01-482c-953d-fdc63a09801d"
      },
      "outputs": [
        {
          "output_type": "stream",
          "name": "stdout",
          "text": [
            "Datos actualizados: {'AR': {'nombre': 'Argentina', 'poblacion': 46000000}, 'BR': {'nombre': 'Brasil', 'poblacion': 214300000}, 'CO': {'nombre': 'Colombia', 'poblacion': 51520000}, 'CH': {'nombre': 'Chile', 'poblacion': 19490000, 'idioma': 'Español'}, 'SR': {'nombre': 'Surinam', 'poblacion': 612985}, 'LU': {'nombre': 'Luxemburgo', 'poblacion': 640064}, 'MC': {'nombre': 'Mónaco', 'poblacion': 36686}}\n"
          ]
        }
      ],
      "source": [
        "# Solución del Ejercicio 1\n",
        "# Datos del primer ejercicio\n",
        "paises = {\n",
        "    \"AR\": {\"nombre\": \"Argentina\", \"poblacion\": 45810000},\n",
        "    \"BR\": {\"nombre\": \"Brasil\", \"poblacion\": 214300000},\n",
        "    \"CO\": {\"nombre\": \"Colombia\", \"poblacion\": 51520000}\n",
        "}\n",
        "\n",
        "# Agregar el nuevo país con el idioma\n",
        "paises[\"CH\"] = {\"nombre\": \"Chile\", \"poblacion\": 19490000, \"idioma\": \"Español\"}\n",
        "\n",
        "# Modificar la población de Argentina a 46,000,000\n",
        "paises[\"AR\"][\"poblacion\"] = 46000000\n",
        "\n",
        "# Agregar los datos del nuevo ejercicio\n",
        "nuevos_paises = {\n",
        "    \"SR\": {\"nombre\": \"Surinam\", \"poblacion\": 612985},\n",
        "    \"LU\": {\"nombre\": \"Luxemburgo\", \"poblacion\": 640064},\n",
        "    \"MC\": {\"nombre\": \"Mónaco\", \"poblacion\": 36686}\n",
        "}\n",
        "\n",
        "# Fusionar ambos diccionarios\n",
        "paises.update(nuevos_paises)\n",
        "\n",
        "# Mostrar resultado final\n",
        "print(\"Datos actualizados:\", paises)\n",
        "\n"
      ]
    },
    {
      "cell_type": "markdown",
      "id": "6d1c6a7b",
      "metadata": {
        "id": "6d1c6a7b"
      },
      "source": [
        "\n",
        "\n",
        "```\n",
        "# Tiene formato de código\n",
        "```\n",
        "\n",
        "## Tomando como punto de partida la tercer consigna de la última vez, Devolver el total de población de los paises que se mencionan. (Calcular el total utilizando bucles)"
      ]
    },
    {
      "cell_type": "code",
      "source": [
        "def calcular_total_poblacion(paises):\n",
        "    \"\"\"\n",
        "    Calcula el total de población sumando la población de todos los países en el diccionario.\n",
        "\n",
        "    Args:\n",
        "        paises (dict): Diccionario con los datos de los países.\n",
        "\n",
        "    Returns:\n",
        "        int: Total de la población.\n",
        "    \"\"\"\n",
        "    total = 0  # Inicializamos el total en 0\n",
        "    for pais in paises.values():\n",
        "        total += pais[\"poblacion\"]  # Sumamos la población de cada país\n",
        "\n",
        "    return total\n",
        "\n",
        "# Llamamos a la función y mostramos el resultado\n",
        "total_poblacion = calcular_total_poblacion(paises)\n",
        "print(f\"Total de población: {total_poblacion}\")\n"
      ],
      "metadata": {
        "colab": {
          "base_uri": "https://localhost:8080/"
        },
        "id": "G9X0OyPeCJgS",
        "outputId": "66739932-8bc4-4e78-b8ef-c45816d70683"
      },
      "id": "G9X0OyPeCJgS",
      "execution_count": 2,
      "outputs": [
        {
          "output_type": "stream",
          "name": "stdout",
          "text": [
            "Total de población: 332599735\n"
          ]
        }
      ]
    },
    {
      "cell_type": "code",
      "execution_count": 2,
      "id": "b9169e41",
      "metadata": {
        "colab": {
          "base_uri": "https://localhost:8080/"
        },
        "id": "b9169e41",
        "outputId": "2847410d-b9f4-480e-bb67-093cc5d7ec53"
      },
      "outputs": [
        {
          "output_type": "stream",
          "name": "stdout",
          "text": [
            "Total de población: 332599735\n"
          ]
        }
      ],
      "source": [
        "# Solución\n",
        "total_poblacion = sum(pais[\"poblacion\"] for pais in paises.values())\n",
        "print(f\"Total de población: {total_poblacion}\")\n"
      ]
    },
    {
      "cell_type": "code",
      "source": [
        "def calcular_total_poblacion(paises):\n",
        "    \"\"\"\n",
        "    Calcula el total de población sumando la población de todos los países en el diccionario.\n",
        "\n",
        "    Args:\n",
        "        paises (dict): Diccionario con los datos de los países.\n",
        "\n",
        "    Returns:\n",
        "        int: Total de la población.\n",
        "    \"\"\"\n",
        "    return sum(pais[\"poblacion\"] for pais in paises.values())\n",
        "\n",
        "# Llamamos a la función y mostramos el resultado\n",
        "total_poblacion = calcular_total_poblacion(paises)\n",
        "print(f\"Total de población: {total_poblacion}\")\n"
      ],
      "metadata": {
        "colab": {
          "base_uri": "https://localhost:8080/"
        },
        "id": "tOduwtyJ8NgL",
        "outputId": "f99c8081-49b1-44ca-e0bf-3e12a3a021b3"
      },
      "id": "tOduwtyJ8NgL",
      "execution_count": 6,
      "outputs": [
        {
          "output_type": "stream",
          "name": "stdout",
          "text": [
            "Total de población: 332599735\n"
          ]
        }
      ]
    },
    {
      "cell_type": "markdown",
      "id": "3ad6d5cf",
      "metadata": {
        "id": "3ad6d5cf"
      },
      "source": [
        "## Crear una función que resuma los números de la población de la siguiente manera:\n",
        "- 1.000.000.000 -> 1MM\n",
        "- 1.000.000 -> 1M\n",
        "- 1000 -> 1k"
      ]
    },
    {
      "cell_type": "code",
      "execution_count": 3,
      "id": "72e20dbe",
      "metadata": {
        "colab": {
          "base_uri": "https://localhost:8080/"
        },
        "id": "72e20dbe",
        "outputId": "1f85cc6a-5310-480a-cd92-627d07db4b32"
      },
      "outputs": [
        {
          "output_type": "stream",
          "name": "stdout",
          "text": [
            "Argentina: 46.0M\n",
            "Brasil: 214.3M\n",
            "Colombia: 51.5M\n",
            "Chile: 19.5M\n",
            "Surinam: 613.0k\n",
            "Luxemburgo: 640.1k\n",
            "Mónaco: 36.7k\n"
          ]
        }
      ],
      "source": [
        "# Solución\n",
        "def resumir_poblacion(numero):\n",
        "    \"\"\"\n",
        "    Convierte un número grande en una representación abreviada usando sufijos (k, M, MM).\n",
        "\n",
        "    Args:\n",
        "        numero (int): El número de población a resumir.\n",
        "\n",
        "    Returns:\n",
        "        str: Representación abreviada de la población con sufijos adecuados.\n",
        "    \"\"\"\n",
        "    if numero >= 1_000_000_000:\n",
        "        return f\"{numero / 1_000_000_000:.1f}MM\"  # Mil millones o más (billón en escala corta)\n",
        "    elif numero >= 1_000_000:\n",
        "        return f\"{numero / 1_000_000:.1f}M\"  # Millones\n",
        "    elif numero >= 1000:\n",
        "        return f\"{numero / 1000:.1f}k\"  # Miles\n",
        "    return str(numero)  # Menos de 1000, se devuelve como está\n",
        "\n",
        "# Iterar sobre los países y mostrar la población resumida\n",
        "for codigo, datos in paises.items():\n",
        "    print(f\"{datos['nombre']}: {resumir_poblacion(datos['poblacion'])}\")\n",
        "\n"
      ]
    },
    {
      "cell_type": "code",
      "source": [
        "# Solución del Ejercicio 3\n",
        "def resumir_poblacion(numero):\n",
        "    match numero:\n",
        "        case n if n >= 1_000_000_000:\n",
        "            return f\"{n / 1_000_000_000:.1f}MM\"\n",
        "        case n if n >= 1_000_000:\n",
        "            return f\"{n / 1_000_000:.1f}M\"\n",
        "        case n if n >= 1000:\n",
        "            return f\"{n / 1000:.1f}k\"\n",
        "        case _:\n",
        "            return str(numero)\n",
        "\n",
        "for codigo, datos in paises.items():\n",
        "    print(f\"{datos['nombre']}: {resumir_poblacion(datos['poblacion'])}\")\n"
      ],
      "metadata": {
        "colab": {
          "base_uri": "https://localhost:8080/"
        },
        "id": "CIwJDqrk2cgQ",
        "outputId": "bd8c9305-7a34-44e6-d95c-dd97844fe8c4"
      },
      "id": "CIwJDqrk2cgQ",
      "execution_count": 5,
      "outputs": [
        {
          "output_type": "stream",
          "name": "stdout",
          "text": [
            "Argentina: 46.0M\n",
            "Brasil: 214.3M\n",
            "Colombia: 51.5M\n",
            "Chile: 19.5M\n",
            "Surinam: 613.0k\n",
            "Luxemburgo: 640.1k\n",
            "Mónaco: 36.7k\n"
          ]
        }
      ]
    },
    {
      "cell_type": "markdown",
      "id": "839a6059",
      "metadata": {
        "id": "839a6059"
      },
      "source": [
        "## Construir una función que recorra una lista y devuelva la suma de todos los valores numéricos."
      ]
    },
    {
      "cell_type": "code",
      "execution_count": 4,
      "id": "e0ae868a",
      "metadata": {
        "colab": {
          "base_uri": "https://localhost:8080/"
        },
        "id": "e0ae868a",
        "outputId": "fa39fcb2-d299-46a9-d57d-41d781f47a69"
      },
      "outputs": [
        {
          "output_type": "stream",
          "name": "stdout",
          "text": [
            "Suma de valores: 8118\n"
          ]
        }
      ],
      "source": [
        "# Solución\n",
        "\n",
        "def sumar_lista(lista):\n",
        "    \"\"\"\n",
        "    Calcula la suma de todos los elementos en una lista.\n",
        "\n",
        "    Args:\n",
        "        lista (list): Lista de números a sumar.\n",
        "\n",
        "    Returns:\n",
        "        int/float: Suma total de los elementos en la lista.\n",
        "    \"\"\"\n",
        "    return sum(lista)\n",
        "\n",
        "# Lista de ejemplo\n",
        "lista = [1, 4, 6, 8, 11, 23, 45, 56, 7777, 88, 99]\n",
        "\n",
        "# Llamada a la función y mostrar resultado\n",
        "print(\"Suma de valores:\", sumar_lista(lista))\n",
        "\n"
      ]
    },
    {
      "cell_type": "markdown",
      "source": [
        "Enunciado\n",
        "##Construye una función que recorra una lista y devuelva la cantidad de elementos que son int dentro de ella."
      ],
      "metadata": {
        "id": "k-SnmY7vNW7E"
      },
      "id": "k-SnmY7vNW7E"
    },
    {
      "cell_type": "code",
      "source": [
        "def contar_enteros(lista):\n",
        "    \"\"\"\n",
        "    Cuenta la cantidad de elementos enteros en una lista.\n",
        "\n",
        "    Args:\n",
        "        lista (list): Lista que puede contener distintos tipos de datos.\n",
        "\n",
        "    Returns:\n",
        "        int: Cantidad de elementos que son enteros en la lista.\n",
        "    \"\"\"\n",
        "    contador = 0  # Inicializamos el contador en 0\n",
        "    for x in lista:\n",
        "        if isinstance(x, int):  # Verificamos si el elemento es un entero\n",
        "            contador += 1\n",
        "    return contador\n",
        "\n",
        "# Lista de ejemplo\n",
        "lista = [\"a\", 1, 2, 3, 4, True, 222, \"Datalytics\", 111, \"?\", 11.11, False, [123, 44, 55, 66]]\n",
        "\n",
        "# Llamada a la función\n",
        "cantidad_enteros = contar_enteros(lista)\n",
        "print(\"Cantidad de enteros en la lista:\", cantidad_enteros)"
      ],
      "metadata": {
        "colab": {
          "base_uri": "https://localhost:8080/"
        },
        "id": "0EqxbsT_FAuf",
        "outputId": "a285ccf3-e8a1-4aaf-a785-31127de1e4e8"
      },
      "id": "0EqxbsT_FAuf",
      "execution_count": 7,
      "outputs": [
        {
          "output_type": "stream",
          "name": "stdout",
          "text": [
            "Cantidad de enteros en la lista: 8\n"
          ]
        }
      ]
    },
    {
      "cell_type": "code",
      "source": [
        "def contar_enteros(lista):\n",
        "    \"\"\"\n",
        "    Cuenta la cantidad de elementos enteros en una lista.\n",
        "\n",
        "    Args:\n",
        "        lista (list): Lista que puede contener distintos tipos de datos.\n",
        "\n",
        "    Returns:\n",
        "        int: Cantidad de elementos que son enteros en la lista.\n",
        "    \"\"\"\n",
        "    contador = 0  # Inicializamos el contador en 0\n",
        "    for x in lista:\n",
        "        if isinstance(x, int) and not isinstance(x, bool):  # Verificamos si el elemento es un entero y no sea bool\n",
        "            contador += 1\n",
        "    return contador\n",
        "\n",
        "# Lista de ejemplo\n",
        "lista = [\"a\", 1, 2, 3, 4, True, 222, \"Datalytics\", 111, \"?\", 11.11, False, [123, 44, 55, 66]]\n",
        "\n",
        "# Llamada a la función\n",
        "cantidad_enteros = contar_enteros(lista)\n",
        "print(\"Cantidad de enteros en la lista:\", cantidad_enteros)"
      ],
      "metadata": {
        "colab": {
          "base_uri": "https://localhost:8080/"
        },
        "id": "LMxbHv3uFpe_",
        "outputId": "230b0646-c79c-4a5b-9927-f1937e676300"
      },
      "id": "LMxbHv3uFpe_",
      "execution_count": 8,
      "outputs": [
        {
          "output_type": "stream",
          "name": "stdout",
          "text": [
            "Cantidad de enteros en la lista: 6\n"
          ]
        }
      ]
    },
    {
      "cell_type": "code",
      "source": [
        "lista = [\"a\", 1, 2, 3, 4, True, 222, \"Datalytics\", 111, \"?\", 11.11, False, [123, 44, 55, 66]]\n",
        "\n",
        "def contar_enteros(lista):\n",
        "    return sum(1 for x in lista if isinstance(x, int))\n",
        "\n",
        "# Llamada a la función\n",
        "cantidad_enteros = contar_enteros(lista)\n",
        "print(\"Cantidad de enteros en la lista:\", cantidad_enteros)\n"
      ],
      "metadata": {
        "colab": {
          "base_uri": "https://localhost:8080/"
        },
        "id": "GnPiGN4yNYIp",
        "outputId": "81f676ba-3f45-42ad-b798-619b01d9a7e1"
      },
      "id": "GnPiGN4yNYIp",
      "execution_count": 14,
      "outputs": [
        {
          "output_type": "stream",
          "name": "stdout",
          "text": [
            "Cantidad de enteros en la lista: 8\n"
          ]
        }
      ]
    },
    {
      "cell_type": "markdown",
      "source": [
        "Enunciado\n",
        "##Construye una función que a cada entero de la lista usada en el ejemplo anterior le sume +1 y retorne la lista con este incremento."
      ],
      "metadata": {
        "id": "4hLDZBO7Ntwv"
      },
      "id": "4hLDZBO7Ntwv"
    },
    {
      "cell_type": "code",
      "source": [
        "def incrementar_enteros(lista):\n",
        "    \"\"\"\n",
        "    Incrementa en +1 cada número entero en la lista, incluyendo True (1) y False (0).\n",
        "\n",
        "    Args:\n",
        "        lista (list): Lista con distintos tipos de datos.\n",
        "\n",
        "    Returns:\n",
        "        list: Lista con los enteros incrementados en +1.\n",
        "    \"\"\"\n",
        "    lista_modificada = []\n",
        "    for x in lista:\n",
        "        if isinstance(x, int):  # Incluye los booleanos porque son subclase de int\n",
        "            lista_modificada.append(x + 1)\n",
        "        else:\n",
        "            lista_modificada.append(x)\n",
        "    return lista_modificada\n",
        "\n",
        "# Lista de prueba\n",
        "lista = [\"a\", 1, 2, 3, 4, True, 222, \"Datalytics\", 111, \"?\", 11.11, False, [123, 44, 55, 66]]\n",
        "\n",
        "# Llamada a la función\n",
        "lista_modificada = incrementar_enteros(lista)\n",
        "print(\"Lista modificada:\", lista_modificada)\n"
      ],
      "metadata": {
        "colab": {
          "base_uri": "https://localhost:8080/"
        },
        "id": "dqt6aVXdNzlK",
        "outputId": "86141dc2-ecb9-42f1-f88b-baaba6c77fcc"
      },
      "id": "dqt6aVXdNzlK",
      "execution_count": 11,
      "outputs": [
        {
          "output_type": "stream",
          "name": "stdout",
          "text": [
            "Lista modificada: ['a', 2, 3, 4, 5, 2, 223, 'Datalytics', 112, '?', 11.11, 1, [123, 44, 55, 66]]\n"
          ]
        }
      ]
    },
    {
      "cell_type": "code",
      "source": [
        "def incrementar_enteros(lista):\n",
        "    \"\"\"\n",
        "    Incrementa en +1 cada número entero en la lista, no incluye True (1) y False (0).\n",
        "\n",
        "    Args:\n",
        "        lista (list): Lista con distintos tipos de datos.\n",
        "\n",
        "    Returns:\n",
        "        list: Lista con los enteros incrementados en +1.\n",
        "    \"\"\"\n",
        "    lista_modificada = []\n",
        "    for x in lista:\n",
        "        if isinstance(x, int) and not isinstance(x, bool):  # Incluye los booleanos porque son subclase de int\n",
        "            lista_modificada.append(x + 1)\n",
        "        else:\n",
        "            lista_modificada.append(x)\n",
        "    return lista_modificada\n",
        "\n",
        "# Lista de prueba\n",
        "lista = [\"a\", 1, 2, 3, 4, True, 222, \"Datalytics\", 111, \"?\", 11.11, False, [123, 44, 55, 66]]\n",
        "\n",
        "# Llamada a la función\n",
        "lista_modificada = incrementar_enteros(lista)\n",
        "print(\"Lista modificada:\", lista_modificada)"
      ],
      "metadata": {
        "colab": {
          "base_uri": "https://localhost:8080/"
        },
        "id": "XOjh6Di0GoBQ",
        "outputId": "0cb9b59e-d0f4-4959-d32d-60a2681799d7"
      },
      "id": "XOjh6Di0GoBQ",
      "execution_count": 12,
      "outputs": [
        {
          "output_type": "stream",
          "name": "stdout",
          "text": [
            "Lista modificada: ['a', 2, 3, 4, 5, True, 223, 'Datalytics', 112, '?', 11.11, False, [123, 44, 55, 66]]\n"
          ]
        }
      ]
    },
    {
      "cell_type": "markdown",
      "source": [
        "##Construye una función que le sume +1 a cada entero impar y devuelva la lista con dicho incremento."
      ],
      "metadata": {
        "id": "1gMynoQ1OK4X"
      },
      "id": "1gMynoQ1OK4X"
    },
    {
      "cell_type": "code",
      "source": [
        "def incrementar_impares(lista):\n",
        "    \"\"\"\n",
        "    Incrementa en +1 cada número impar en la lista.\n",
        "\n",
        "    Args:\n",
        "        lista (list): Lista de números.\n",
        "\n",
        "    Returns:\n",
        "        list: Nueva lista con los impares incrementados en +1.\n",
        "    \"\"\"\n",
        "    lista_modificada = []  # Lista vacía para almacenar los nuevos valores\n",
        "    for x in lista:\n",
        "        if isinstance(x, int) and x % 2 != 0:  # Verifica si es impar\n",
        "            lista_modificada.append(x + 1)\n",
        "        else:\n",
        "            lista_modificada.append(x)  # Si no es impar, se mantiene igual\n",
        "    return lista_modificada\n",
        "\n",
        "# Lista de prueba\n",
        "lista = [\"a\", 1, 2, 3, 4, True, 222, \"Datalytics\", 111, \"?\", 11.11, False, [123, 44, 55, 66]]\n",
        "\n",
        "# Llamada a la función\n",
        "resultado = incrementar_impares(lista)\n",
        "print(\"Lista modificada:\", resultado)\n",
        "\n"
      ],
      "metadata": {
        "colab": {
          "base_uri": "https://localhost:8080/"
        },
        "id": "vYoOYFjDOU_d",
        "outputId": "0538c12c-255c-495a-9f37-ad16c6e7d3b8"
      },
      "id": "vYoOYFjDOU_d",
      "execution_count": 16,
      "outputs": [
        {
          "output_type": "stream",
          "name": "stdout",
          "text": [
            "Lista modificada: ['a', 2, 2, 4, 4, 2, 222, 'Datalytics', 112, '?', 11.11, False, [123, 44, 55, 66]]\n"
          ]
        }
      ]
    },
    {
      "cell_type": "markdown",
      "source": [
        "##Realiza una funcion que reciba 2 listas.\n",
        "##A los elementos pares de la primera deberan multiplicarse por el numero 22\n",
        "##A los elementos impares de la segunda, deberan multiplicarse por el numero 2\n",
        "\n",
        "##Las listas a utilizar son:\n",
        "\n",
        "##lista_1 = [12,354,56,45,99,13,4,7]\n",
        "\n",
        "##lista_2 = [12,354,56,788,99,13,4,7]"
      ],
      "metadata": {
        "id": "z_yRXWy3Jk1I"
      },
      "id": "z_yRXWy3Jk1I"
    },
    {
      "cell_type": "code",
      "source": [
        "# Listas\n",
        "lista_1 = [12, 354, 56, 45, 99, 13, 4, 7]\n",
        "lista_2 = [12, 354, 56, 788, 99, 13, 4, 7]\n",
        "\n",
        "def modificar_listas(lista1, lista2):\n",
        "    \"\"\"\n",
        "    Modifica dos listas aplicando reglas específicas:\n",
        "    - A los elementos pares de la primera lista, los multiplica por 22.\n",
        "    - A los elementos impares de la segunda lista, los multiplica por 2.\n",
        "\n",
        "    Args:\n",
        "        lista1 (list): Lista de números donde los pares se multiplican por 22.\n",
        "        lista2 (list): Lista de números donde los impares se multiplican por 2.\n",
        "\n",
        "    Returns:\n",
        "        tuple: Dos listas modificadas según las reglas dadas.\n",
        "    \"\"\"\n",
        "    # Procesar lista 1 (pares * 22)\n",
        "    lista1_modificada = []\n",
        "    for num in lista1:\n",
        "        if num % 2 == 0:\n",
        "            lista1_modificada.append(num * 22)\n",
        "        else:\n",
        "            lista1_modificada.append(num)\n",
        "\n",
        "    # Procesar lista 2 (impares * 2)\n",
        "    lista2_modificada = []\n",
        "    for num in lista2:\n",
        "        if num % 2 != 0:\n",
        "            lista2_modificada.append(num * 2)\n",
        "        else:\n",
        "            lista2_modificada.append(num)\n",
        "\n",
        "    return lista1_modificada, lista2_modificada\n",
        "\n",
        "# Listas\n",
        "lista_1 = [12, 354, 56, 45, 99, 13, 4, 7]\n",
        "lista_2 = [12, 354, 56, 788, 99, 13, 4, 7]\n",
        "\n",
        "# Llamada a la función\n",
        "resultado1, resultado2 = modificar_listas(lista_1, lista_2)\n",
        "\n",
        "# Mostrar resultados\n",
        "print(\"Lista 1 modificada:\", resultado1)\n",
        "print(\"Lista 2 modificada:\", resultado2)\n"
      ],
      "metadata": {
        "colab": {
          "base_uri": "https://localhost:8080/"
        },
        "id": "9sQEKPGyJ1Zh",
        "outputId": "702f5747-0f99-42f4-b9bd-2bab9be80a3a"
      },
      "id": "9sQEKPGyJ1Zh",
      "execution_count": 17,
      "outputs": [
        {
          "output_type": "stream",
          "name": "stdout",
          "text": [
            "Lista 1 modificada: [264, 7788, 1232, 45, 99, 13, 88, 7]\n",
            "Lista 2 modificada: [12, 354, 56, 788, 198, 26, 4, 14]\n"
          ]
        }
      ]
    }
  ],
  "metadata": {
    "colab": {
      "provenance": [],
      "include_colab_link": true
    },
    "language_info": {
      "name": "python"
    },
    "kernelspec": {
      "name": "python3",
      "display_name": "Python 3"
    }
  },
  "nbformat": 4,
  "nbformat_minor": 5
}