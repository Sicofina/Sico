{
  "nbformat": 4,
  "nbformat_minor": 0,
  "metadata": {
    "colab": {
      "provenance": [],
      "authorship_tag": "ABX9TyPZQjTNsb6zkKKukamWo4xH",
      "include_colab_link": true
    },
    "kernelspec": {
      "name": "python3",
      "display_name": "Python 3"
    },
    "language_info": {
      "name": "python"
    }
  },
  "cells": [
    {
      "cell_type": "markdown",
      "metadata": {
        "id": "view-in-github",
        "colab_type": "text"
      },
      "source": [
        "<a href=\"https://colab.research.google.com/github/Sicofina/Sico/blob/main/06_Manejo_de_errores_Practica.ipynb\" target=\"_parent\"><img src=\"https://colab.research.google.com/assets/colab-badge.svg\" alt=\"Open In Colab\"/></a>"
      ]
    },
    {
      "cell_type": "markdown",
      "source": [
        "###06. Manejo de errores - Práctica"
      ],
      "metadata": {
        "id": "X8myLqP4ufCm"
      }
    },
    {
      "cell_type": "markdown",
      "source": [
        "##Enunciado\n",
        "A cada elemento de esta lista, [1,2,3,4,5,6,7,89] dividelo por cada uno de los siguientes valores de la lista [1,3,5,6,0]. La función no debe arrojar un error cuando no se pueda realizar la operación.\n",
        "\n",
        "Imprime los resultados siguiendo el siguiente formato:\n",
        "\n",
        "\" 1/1 es igual a 1 \"\n",
        "\n",
        "\"1/0 no se puede realizar\""
      ],
      "metadata": {
        "id": "-ah2BVmtv0Q9"
      }
    },
    {
      "cell_type": "code",
      "execution_count": null,
      "metadata": {
        "id": "FNMitiY-twMt"
      },
      "outputs": [],
      "source": [
        "def dividir_lista(numeradores, denominadores):\n",
        "    for num in numeradores:\n",
        "        for den in denominadores:\n",
        "            try:\n",
        "                resultado = num / den\n",
        "                print(f\"{num}/{den} es igual a {resultado}\")\n",
        "            except ZeroDivisionError:\n",
        "                print(f\"{num}/{den} no se puede realizar\")\n",
        "\n",
        "numeradores = [1, 2, 3, 4, 5, 6, 7, 89]\n",
        "denominadores = [1, 3, 5, 6, 0]\n",
        "\n",
        "dividir_lista(numeradores, denominadores)\n"
      ]
    },
    {
      "cell_type": "code",
      "source": [
        "from itertools import product\n",
        "\n",
        "def dividir_lista(numeradores, denominadores):\n",
        "    for num, den in product(numeradores, denominadores):\n",
        "        try:\n",
        "            resultado = num / den\n",
        "            print(f\"{num}/{den} es igual a {resultado}\")\n",
        "        except ZeroDivisionError:\n",
        "            print(f\"{num}/{den} no se puede realizar\")\n",
        "\n",
        "numeradores = [1, 2, 3, 4, 5, 6, 7, 89]\n",
        "denominadores = [1, 3, 5, 6, 0]\n",
        "\n",
        "dividir_lista(numeradores, denominadores)\n"
      ],
      "metadata": {
        "collapsed": true,
        "colab": {
          "base_uri": "https://localhost:8080/"
        },
        "id": "wNGj115AvpIP",
        "outputId": "4fabc417-024d-4349-e30d-78f1cbe44edd"
      },
      "execution_count": 2,
      "outputs": [
        {
          "output_type": "stream",
          "name": "stdout",
          "text": [
            "1/1 es igual a 1.0\n",
            "1/3 es igual a 0.3333333333333333\n",
            "1/5 es igual a 0.2\n",
            "1/6 es igual a 0.16666666666666666\n",
            "1/0 no se puede realizar\n",
            "2/1 es igual a 2.0\n",
            "2/3 es igual a 0.6666666666666666\n",
            "2/5 es igual a 0.4\n",
            "2/6 es igual a 0.3333333333333333\n",
            "2/0 no se puede realizar\n",
            "3/1 es igual a 3.0\n",
            "3/3 es igual a 1.0\n",
            "3/5 es igual a 0.6\n",
            "3/6 es igual a 0.5\n",
            "3/0 no se puede realizar\n",
            "4/1 es igual a 4.0\n",
            "4/3 es igual a 1.3333333333333333\n",
            "4/5 es igual a 0.8\n",
            "4/6 es igual a 0.6666666666666666\n",
            "4/0 no se puede realizar\n",
            "5/1 es igual a 5.0\n",
            "5/3 es igual a 1.6666666666666667\n",
            "5/5 es igual a 1.0\n",
            "5/6 es igual a 0.8333333333333334\n",
            "5/0 no se puede realizar\n",
            "6/1 es igual a 6.0\n",
            "6/3 es igual a 2.0\n",
            "6/5 es igual a 1.2\n",
            "6/6 es igual a 1.0\n",
            "6/0 no se puede realizar\n",
            "7/1 es igual a 7.0\n",
            "7/3 es igual a 2.3333333333333335\n",
            "7/5 es igual a 1.4\n",
            "7/6 es igual a 1.1666666666666667\n",
            "7/0 no se puede realizar\n",
            "89/1 es igual a 89.0\n",
            "89/3 es igual a 29.666666666666668\n",
            "89/5 es igual a 17.8\n",
            "89/6 es igual a 14.833333333333334\n",
            "89/0 no se puede realizar\n"
          ]
        }
      ]
    },
    {
      "cell_type": "markdown",
      "source": [
        "##Enunciado\n",
        "Calcula la división de dos numero enteros e imprime el resultado. Asegúrate de manejar posibles errores de entrada, como cuando ingresas un valor no numérico, o en caso de division por cero."
      ],
      "metadata": {
        "id": "DrTLxWqYv549"
      }
    },
    {
      "cell_type": "code",
      "source": [
        "def dividir_numeros():\n",
        "    try:\n",
        "        num1 = int(input(\"Ingrese el primer número entero: \"))\n",
        "        num2 = int(input(\"Ingrese el segundo número entero: \"))\n",
        "        resultado = num1 / num2\n",
        "        print(f\"{num1}/{num2} es igual a {resultado}\")\n",
        "    except ZeroDivisionError:\n",
        "        print(\"No se puede dividir por cero.\")\n",
        "    except ValueError:\n",
        "        print(\"Entrada inválida. Asegúrese de ingresar números enteros.\")\n",
        "\n",
        "# Llamar a la función\n",
        "dividir_numeros()\n",
        "\n"
      ],
      "metadata": {
        "colab": {
          "base_uri": "https://localhost:8080/"
        },
        "id": "DK-34ZfmwUsf",
        "outputId": "c03825ef-257b-4b52-daa7-c8d72faf8a11"
      },
      "execution_count": 6,
      "outputs": [
        {
          "output_type": "stream",
          "name": "stdout",
          "text": [
            "Ingrese el primer número entero: 5\n",
            "Ingrese el segundo número entero: 0\n",
            "No se puede dividir por cero.\n"
          ]
        }
      ]
    },
    {
      "cell_type": "code",
      "source": [
        "def dividir_numeros_param(num1, num2):\n",
        "    try:\n",
        "        resultado = num1 / num2\n",
        "        print(f\"{num1}/{num2} es igual a {resultado}\")\n",
        "    except ZeroDivisionError:\n",
        "        print(\"No se puede dividir por cero.\")\n",
        "    except TypeError:\n",
        "        print(\"Entrada inválida. Asegúrese de ingresar números enteros o flotantes.\")\n",
        "\n",
        "\n",
        "dividir_numeros_param(10, 2)  # Enteros positivos\n",
        "dividir_numeros_param(-10, 2)  # Entero negativo\n",
        "dividir_numeros_param(10, -2)  # Entero positivo y negativo\n",
        "dividir_numeros_param(-10, -2)  # Ambos negativos\n",
        "dividir_numeros_param(5, 0)  # División por cero\n",
        "dividir_numeros_param(7, 'a')  # Tipo incorrecto\n",
        "dividir_numeros_param(10.5, 2)  # Número flotante\n",
        "dividir_numeros_param(10, 2.5)  # Número flotante como divisor\n",
        "dividir_numeros_param(10.5, 2.5)  # Ambos flotantes\n",
        "dividir_numeros_param(0, 5)  # Cero como numerador\n"
      ],
      "metadata": {
        "colab": {
          "base_uri": "https://localhost:8080/"
        },
        "id": "D_s9FPRwxuUY",
        "outputId": "f0c60a66-81e9-47ba-dc55-809a1f366871"
      },
      "execution_count": 7,
      "outputs": [
        {
          "output_type": "stream",
          "name": "stdout",
          "text": [
            "10/2 es igual a 5.0\n",
            "-10/2 es igual a -5.0\n",
            "10/-2 es igual a -5.0\n",
            "-10/-2 es igual a 5.0\n",
            "No se puede dividir por cero.\n",
            "Entrada inválida. Asegúrese de ingresar números enteros o flotantes.\n",
            "10.5/2 es igual a 5.25\n",
            "10/2.5 es igual a 4.0\n",
            "10.5/2.5 es igual a 4.2\n",
            "0/5 es igual a 0.0\n"
          ]
        }
      ]
    },
    {
      "cell_type": "markdown",
      "source": [
        "##Enunciado\n",
        "Verifica si el número ingresado es par o impar. La función no debe permitir el ingreso de un valor que no sea un número entero.\n",
        "\n",
        "Recuerda usar la función % de python\n"
      ],
      "metadata": {
        "id": "iKT9tLK4yCfr"
      }
    },
    {
      "cell_type": "code",
      "source": [
        "def verificar_paridad(numero):\n",
        "    try:\n",
        "        if not isinstance(numero, int):\n",
        "            raise TypeError(\"Entrada inválida. Asegúrese de ingresar un número entero.\") #error de manera manual\n",
        "        if numero % 2 == 0:\n",
        "            print(f\"{numero} es un número par.\")\n",
        "        else:\n",
        "            print(f\"{numero} es un número impar.\")\n",
        "    except TypeError as e:\n",
        "        print(e)\n",
        "\n",
        "# Prueba de la función con distintos valores\n",
        "verificar_paridad(10)  # Número par\n",
        "verificar_paridad(7)  # Número impar\n",
        "verificar_paridad(-4)  # Número par negativo\n",
        "verificar_paridad(-3)  # Número impar negativo\n",
        "verificar_paridad(0)  # Cero es par\n",
        "verificar_paridad(10.5)  # Número flotante\n",
        "verificar_paridad(\"texto\")  # Tipo incorrecto\n"
      ],
      "metadata": {
        "colab": {
          "base_uri": "https://localhost:8080/"
        },
        "id": "gB2C38kOyE7-",
        "outputId": "80787713-8972-444e-fc19-83a305249b8b"
      },
      "execution_count": 8,
      "outputs": [
        {
          "output_type": "stream",
          "name": "stdout",
          "text": [
            "10 es un número par.\n",
            "7 es un número impar.\n",
            "-4 es un número par.\n",
            "-3 es un número impar.\n",
            "0 es un número par.\n",
            "Entrada inválida. Asegúrese de ingresar un número entero.\n",
            "Entrada inválida. Asegúrese de ingresar un número entero.\n"
          ]
        }
      ]
    },
    {
      "cell_type": "markdown",
      "source": [
        "##Enunciado\n",
        "Ingresa una cadena de texto y un número entero. Luego, imprime el carácter en la posición indicada por el número ingresado. Asegúrate de manejar posibles errores, como cuando ingresas una posición inválida (fuera de los límites de la cadena) o un valor no numérico.\n",
        "\n"
      ],
      "metadata": {
        "id": "du_5fgDkywSN"
      }
    },
    {
      "cell_type": "markdown",
      "source": [],
      "metadata": {
        "id": "vOC3Ns8FueIR"
      }
    },
    {
      "cell_type": "code",
      "source": [
        "def obtener_caracter(cadena, posicion):\n",
        "    try:\n",
        "        if not isinstance(cadena, str):\n",
        "            raise TypeError(\"La primera entrada debe ser una cadena de texto.\")\n",
        "        if not isinstance(posicion, int):\n",
        "            raise TypeError(\"La segunda entrada debe ser un número entero.\")\n",
        "        if posicion < 0 or posicion >= len(cadena):\n",
        "            raise IndexError(\"La posición ingresada está fuera de los límites de la cadena.\")\n",
        "        print(f\"El carácter en la posición {posicion} es '{cadena[posicion]}'\")\n",
        "    except (TypeError, IndexError) as e:\n",
        "        print(e)\n",
        "\n",
        "# Prueba de la función con distintos valores\n",
        "obtener_caracter(\"Python\", 3)  # Carácter válido\n",
        "obtener_caracter(\"Hola\", 2)  # Índice fuera de rango\n",
        "obtener_caracter(\"Texto\", -1)  # Índice negativo fuera de rango\n",
        "obtener_caracter(\"Ejemplo\", \"a\")  # Índice no numérico\n",
        "obtener_caracter(12345, 2)  # Primera entrada no es una cadena\n"
      ],
      "metadata": {
        "colab": {
          "base_uri": "https://localhost:8080/"
        },
        "id": "lxQG-yS2yygf",
        "outputId": "e9b94871-3d93-4118-fe83-95499a91fcb0"
      },
      "execution_count": 10,
      "outputs": [
        {
          "output_type": "stream",
          "name": "stdout",
          "text": [
            "El carácter en la posición 3 es 'h'\n",
            "El carácter en la posición 2 es 'l'\n",
            "La posición ingresada está fuera de los límites de la cadena.\n",
            "La segunda entrada debe ser un número entero.\n",
            "La primera entrada debe ser una cadena de texto.\n"
          ]
        }
      ]
    }
  ]
}