{
  "cells": [
    {
      "cell_type": "markdown",
      "metadata": {
        "id": "view-in-github",
        "colab_type": "text"
      },
      "source": [
        "<a href=\"https://colab.research.google.com/github/Sicofina/Sico/blob/main/Docstrings_Colab.ipynb\" target=\"_parent\"><img src=\"https://colab.research.google.com/assets/colab-badge.svg\" alt=\"Open In Colab\"/></a>"
      ]
    },
    {
      "cell_type": "markdown",
      "metadata": {
        "id": "PS75ZFnENqHq"
      },
      "source": [
        "## Docstrings\n",
        "\n",
        "Es una cadena de caracteres que aparecen en la primera línea cuando se declara un módulo, función, clase o método. Tal docstring se convierte en un atributo especial `__doc__` de su objeto.\n",
        "\n",
        "Los Docstrings son una práctica recomendada que hará que su código sea más fácil de usar, leer y mantener."
      ]
    },
    {
      "cell_type": "code",
      "metadata": {
        "id": "Xw_3tF9NNqHt"
      },
      "source": [
        "def function(a, b):\n",
        "    \"\"\"\n",
        "    Descripción de lo que la función hace\n",
        "    Descripción de los argumentos\n",
        "    Descripción de los valores que devuelve\n",
        "    Descripción de los errores que se pueden generar\n",
        "    Notas adicionales o ejemplos de uso (Opcional)\n",
        "    \"\"\"\n",
        "    return a, b"
      ],
      "execution_count": null,
      "outputs": []
    },
    {
      "cell_type": "markdown",
      "metadata": {
        "id": "EOjd86ZINqHv"
      },
      "source": [
        "Ahora definamos una función usando el formato **_Google Style_**"
      ]
    },
    {
      "cell_type": "code",
      "metadata": {
        "id": "5E3GiOaWNqHv"
      },
      "source": [
        "def calculate_square(x: int or float):\n",
        "    \"\"\"\n",
        "    Calcula el cuadrado de un número entero o decimal.\n",
        "\n",
        "    Args:\n",
        "        x (int or float): Número al que se calcula el cuadrado.\n",
        "\n",
        "    Returns:\n",
        "        int or float: Resultado del cuadrado del número.\n",
        "    \"\"\"\n",
        "    return x ** 2"
      ],
      "execution_count": null,
      "outputs": []
    },
    {
      "cell_type": "markdown",
      "metadata": {
        "id": "HaPVdCZJNqHw"
      },
      "source": [
        "Podemos inspeccionar la documentación de la función con el atributo `.__doc__`"
      ]
    },
    {
      "cell_type": "code",
      "metadata": {
        "id": "z2hIghycNqHx"
      },
      "source": [
        "print(calculate_square.__doc__)"
      ],
      "execution_count": null,
      "outputs": []
    },
    {
      "cell_type": "markdown",
      "metadata": {
        "id": "-HMGAbuLNqHy"
      },
      "source": [
        "De una forma más ordenada, lo podemos hacer con el método `.getdoc()` del módulo **_inspect_**"
      ]
    },
    {
      "cell_type": "code",
      "metadata": {
        "id": "stAeVQSCNqHy"
      },
      "source": [
        "import inspect\n",
        "print(inspect.getdoc(calculate_square))"
      ],
      "execution_count": null,
      "outputs": []
    },
    {
      "cell_type": "markdown",
      "metadata": {
        "id": "5aitJNPyNqHz"
      },
      "source": [
        "Ahora definamos la función usando el formato **_Numpydoc_**"
      ]
    },
    {
      "cell_type": "code",
      "metadata": {
        "id": "d_96mJY5NqHz"
      },
      "source": [
        "def calculate_square(x: int or float):\n",
        "    \"\"\"\n",
        "    Calcula el cuadrado de un número entero o decimal.\n",
        "\n",
        "    Parameters\n",
        "    ----------\n",
        "    x: int or float\n",
        "        Número al que se le calcula el cuadrado.\n",
        "\n",
        "    Returns\n",
        "    -------\n",
        "    int or float\n",
        "    \"\"\"\n",
        "    return x ** 2"
      ],
      "execution_count": null,
      "outputs": []
    }
  ],
  "metadata": {
    "colab": {
      "provenance": [],
      "include_colab_link": true
    },
    "kernelspec": {
      "display_name": "Python 3",
      "language": "python",
      "name": "python3"
    },
    "language_info": {
      "codemirror_mode": {
        "name": "ipython",
        "version": 3
      },
      "file_extension": ".py",
      "mimetype": "text/x-python",
      "name": "python",
      "nbconvert_exporter": "python",
      "pygments_lexer": "ipython3",
      "version": "3.8.10"
    }
  },
  "nbformat": 4,
  "nbformat_minor": 0
}