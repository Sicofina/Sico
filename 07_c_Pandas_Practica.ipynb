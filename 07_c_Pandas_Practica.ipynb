{
  "nbformat": 4,
  "nbformat_minor": 0,
  "metadata": {
    "colab": {
      "provenance": [],
      "authorship_tag": "ABX9TyNyQ/wNL6n87jduIiSd0z9I",
      "include_colab_link": true
    },
    "kernelspec": {
      "name": "python3",
      "display_name": "Python 3"
    },
    "language_info": {
      "name": "python"
    }
  },
  "cells": [
    {
      "cell_type": "markdown",
      "metadata": {
        "id": "view-in-github",
        "colab_type": "text"
      },
      "source": [
        "<a href=\"https://colab.research.google.com/github/Sicofina/Sico/blob/main/07_c_Pandas_Practica.ipynb\" target=\"_parent\"><img src=\"https://colab.research.google.com/assets/colab-badge.svg\" alt=\"Open In Colab\"/></a>"
      ]
    },
    {
      "cell_type": "markdown",
      "source": [
        "##Cargar la lista como un DataFrame\n",
        "##data = [['Florencia','Diseñadora gráfica',27],['Carolina','Médica',26],['Florencia','Periodista',28],['Josefina','Contadora',28],['Florencia','Diseñadora gráfica',27]]"
      ],
      "metadata": {
        "id": "H70rg68p1xsh"
      }
    },
    {
      "cell_type": "code",
      "execution_count": null,
      "metadata": {
        "colab": {
          "base_uri": "https://localhost:8080/"
        },
        "id": "0dnA5lMxz8d9",
        "outputId": "b5df516f-d785-49bd-b7b2-eef042ccb628"
      },
      "outputs": [
        {
          "output_type": "stream",
          "name": "stdout",
          "text": [
            "      Nombre           Ocupacion  Edad\n",
            "0  Florencia  Diseñadora gráfica    27\n",
            "1   Carolina              Médica    26\n",
            "2  Florencia          Periodista    28\n",
            "3   Josefina           Contadora    28\n",
            "4  Florencia  Diseñadora gráfica    27\n"
          ]
        }
      ],
      "source": [
        "import pandas as pd\n",
        "\n",
        "data = [['Florencia','Diseñadora gráfica',27],\n",
        "        ['Carolina','Médica',26],\n",
        "        ['Florencia','Periodista',28],\n",
        "        ['Josefina','Contadora',28],\n",
        "        ['Florencia','Diseñadora gráfica',27]]\n",
        "\n",
        "df = pd.DataFrame(data, columns=['Nombre', 'Ocupacion', 'Edad'])\n",
        "print(df)"
      ]
    },
    {
      "cell_type": "markdown",
      "source": [
        "##Imprimir las columnas nombre y ocupación"
      ],
      "metadata": {
        "id": "CPVLZDjP2Oc9"
      }
    },
    {
      "cell_type": "code",
      "source": [
        "print(df[['Nombre', 'Ocupacion']])"
      ],
      "metadata": {
        "colab": {
          "base_uri": "https://localhost:8080/"
        },
        "id": "ATgLBgr_2N5c",
        "outputId": "7922a727-d938-42ff-ffdc-fa531469b6a7"
      },
      "execution_count": null,
      "outputs": [
        {
          "output_type": "stream",
          "name": "stdout",
          "text": [
            "      Nombre           Ocupacion\n",
            "0  Florencia  Diseñadora gráfica\n",
            "1   Carolina              Médica\n",
            "2  Florencia          Periodista\n",
            "3   Josefina           Contadora\n",
            "4  Florencia  Diseñadora gráfica\n"
          ]
        }
      ]
    },
    {
      "cell_type": "markdown",
      "source": [
        "##Imprimir las primeras tres filas"
      ],
      "metadata": {
        "id": "DrHMtakf2Z0O"
      }
    },
    {
      "cell_type": "code",
      "source": [
        "print(df.head(3))"
      ],
      "metadata": {
        "colab": {
          "base_uri": "https://localhost:8080/"
        },
        "id": "nEgpJhQE2dlK",
        "outputId": "4c121909-cecb-44e6-9cfd-8a368d9ff8b6"
      },
      "execution_count": null,
      "outputs": [
        {
          "output_type": "stream",
          "name": "stdout",
          "text": [
            "      Nombre           Ocupacion  Edad  Altura  Edad_Cuadrado\n",
            "0  Florencia  Diseñadora gráfica    27    1.55            729\n",
            "1   Carolina              Médica    26    1.60            676\n",
            "2  Florencia          Periodista    28    1.60            784\n"
          ]
        }
      ]
    },
    {
      "cell_type": "markdown",
      "source": [
        "##Escribir el DataFrame en un CSV con diferente separador (no entendí)"
      ],
      "metadata": {
        "id": "yJgraVqB2hHl"
      }
    },
    {
      "cell_type": "code",
      "source": [
        "# a. Con index y header\n",
        "df.to_csv('/tmp/dataframe_con_index_header.csv', sep='\\t', index=True, header=True)\n",
        "\n",
        "# b. Sin index ni header\n",
        "df.to_csv('/tmp/dataframe_sin_index_header.csv', sep='\\t', index=False, header=False)\n",
        "#no entendí"
      ],
      "metadata": {
        "id": "9zpnN8bX2oQ9"
      },
      "execution_count": null,
      "outputs": []
    },
    {
      "cell_type": "markdown",
      "source": [
        "##Agregar la lista mi_lista3 como nueva columna \"Altura\""
      ],
      "metadata": {
        "id": "C-FyFZXc276o"
      }
    },
    {
      "cell_type": "code",
      "source": [
        "mi_lista3 = [1.55, 1.60, 1.60, 1.70, 1.55]\n",
        "df['Altura'] = mi_lista3\n",
        "print(df)"
      ],
      "metadata": {
        "colab": {
          "base_uri": "https://localhost:8080/"
        },
        "id": "swg--pmC3EnZ",
        "outputId": "3cc8627e-eda1-4c16-dbae-e4e1030a7f4c"
      },
      "execution_count": null,
      "outputs": [
        {
          "output_type": "stream",
          "name": "stdout",
          "text": [
            "      Nombre           Ocupacion  Edad  Altura  Edad_Cuadrado\n",
            "0  Florencia  Diseñadora gráfica    27    1.55            729\n",
            "1   Carolina              Médica    26    1.60            676\n",
            "2  Florencia          Periodista    28    1.60            784\n",
            "3   Josefina           Contadora    28    1.70            784\n",
            "4  Florencia  Diseñadora gráfica    27    1.55            729\n"
          ]
        }
      ]
    },
    {
      "cell_type": "markdown",
      "source": [
        "##Crear una nueva columna con la edad elevada al cuadrado"
      ],
      "metadata": {
        "id": "KYrfdqSD3VGV"
      }
    },
    {
      "cell_type": "code",
      "source": [
        "df['Edad_Cuadrado'] = df['Edad'] ** 2\n",
        "print(df)"
      ],
      "metadata": {
        "colab": {
          "base_uri": "https://localhost:8080/"
        },
        "id": "h1h7zFlk3aIW",
        "outputId": "a1ae8617-9295-47ba-b903-f5d6831b7fe0"
      },
      "execution_count": null,
      "outputs": [
        {
          "output_type": "stream",
          "name": "stdout",
          "text": [
            "      Nombre           Ocupacion  Edad  Altura  Edad_Cuadrado\n",
            "0  Florencia  Diseñadora gráfica    27    1.55            729\n",
            "1   Carolina              Médica    26    1.60            676\n",
            "2  Florencia          Periodista    28    1.60            784\n",
            "3   Josefina           Contadora    28    1.70            784\n",
            "4  Florencia  Diseñadora gráfica    27    1.55            729\n"
          ]
        }
      ]
    },
    {
      "cell_type": "markdown",
      "source": [
        "##Verificar si hay duplicados"
      ],
      "metadata": {
        "id": "JZRW_bm83haL"
      }
    },
    {
      "cell_type": "code",
      "source": [
        "# Encontrar duplicados incluyendo todas sus apariciones\n",
        "duplicados_df = df[df.duplicated(keep=False)].copy()\n",
        "if not duplicados_df.empty:\n",
        "  print(f\"Cantidad de filas duplicadas: {duplicados_df.shape[0]}\")\n",
        "  print(\"\\nDetalles de las filas duplicadas con sus índices:\")\n",
        "  print(duplicados_df)\n",
        "else:\n",
        "    print(\"No hay filas duplicadas en el DataFrame.\")"
      ],
      "metadata": {
        "colab": {
          "base_uri": "https://localhost:8080/"
        },
        "id": "ZhSE_Vol3nyk",
        "outputId": "9a840c1e-9751-4572-b032-65b90bbfb0f8"
      },
      "execution_count": null,
      "outputs": [
        {
          "output_type": "stream",
          "name": "stdout",
          "text": [
            "Cantidad de filas duplicadas: 2\n",
            "\n",
            "Detalles de las filas duplicadas con sus índices:\n",
            "      Nombre           Ocupacion  Edad  Altura  Edad_Cuadrado\n",
            "0  Florencia  Diseñadora gráfica    27    1.55            729\n",
            "4  Florencia  Diseñadora gráfica    27    1.55            729\n"
          ]
        }
      ]
    },
    {
      "cell_type": "markdown",
      "source": [
        "##Borrar duplicados"
      ],
      "metadata": {
        "id": "fxniNhxk5tg3"
      }
    },
    {
      "cell_type": "code",
      "source": [
        "df = df.drop_duplicates()\n",
        "print(df)"
      ],
      "metadata": {
        "colab": {
          "base_uri": "https://localhost:8080/"
        },
        "id": "XX83Tbq550Lj",
        "outputId": "970def4a-5c0b-4baa-87a1-c90ed19935de"
      },
      "execution_count": null,
      "outputs": [
        {
          "output_type": "stream",
          "name": "stdout",
          "text": [
            "      Nombre           Ocupacion  Edad  Altura  Edad_Cuadrado\n",
            "0  Florencia  Diseñadora gráfica    27    1.55            729\n",
            "1   Carolina              Médica    26    1.60            676\n",
            "2  Florencia          Periodista    28    1.60            784\n",
            "3   Josefina           Contadora    28    1.70            784\n"
          ]
        }
      ]
    },
    {
      "cell_type": "markdown",
      "source": [
        "##Filtrar las filas del DataFrame para ver la persona que mide 1.60"
      ],
      "metadata": {
        "id": "-TMDW4oz6Ga_"
      }
    },
    {
      "cell_type": "code",
      "source": [
        "personas_160 = df[df['Altura'] == 1.60]\n",
        "print(personas_160)\n",
        "##tener en cuenta que crea otra df, por eso no coinciden los lugares en las filas"
      ],
      "metadata": {
        "colab": {
          "base_uri": "https://localhost:8080/"
        },
        "id": "DLHkyGSo6M0j",
        "outputId": "fbf7826f-f8d2-4b10-b39b-6b6dba490f99"
      },
      "execution_count": null,
      "outputs": [
        {
          "output_type": "stream",
          "name": "stdout",
          "text": [
            "      Nombre   Ocupacion  Edad  Altura  Edad_Cuadrado\n",
            "1   Carolina      Médica    26     1.6            676\n",
            "2  Florencia  Periodista    28     1.6            784\n"
          ]
        }
      ]
    },
    {
      "cell_type": "markdown",
      "source": [
        "##Agregar nuevas filas al DataFrame"
      ],
      "metadata": {
        "id": "NnhFQ4S_6rvo"
      }
    },
    {
      "cell_type": "code",
      "source": [
        "nuevas_filas = [\n",
        "    ['Josefina', 'Contadora', 28, 1.60],\n",
        "    ['Florencia', 'Diseñadora gráfica', 27, 1.55],\n",
        "    ['Valentina', 'Ingeniera de software', 30, 1.60],\n",
        "    ['Luisa', 'Arquitecta', 32, 1.68],\n",
        "    ['Andrea', 'Psicóloga', 29, 1.63],\n",
        "    ['María', 'Profesora de música', 35, 1.57],\n",
        "    ['Lucía', 'Bióloga marina', 31, 1.72],\n",
        "    ['Laura', 'Abogada', 30, 1.68],\n",
        "    ['Daniela', 'Piloto', 34, 1.62],\n",
        "    ['Alejandra', 'Chef', 27, 1.55],\n",
        "    ['Patricia', 'Actriz', 25, 1.58],\n",
        "    ['Gabriela', 'Ingeniera civil', 29, 1.70],\n",
        "    ['Sofía', 'Diseñadora de moda', 28, 1.65],\n",
        "    ['Camila', 'Médica veterinaria', 26, 1.60],\n",
        "    ['Isabella', 'Economista', 31, 1.68],\n",
        "    ['Ana', 'Periodista deportiva', 29, 1.63],\n",
        "    ['Marcela', 'Fotógrafa', 35, 1.57],\n",
        "    ['Natalia', 'Ingeniera eléctrica', 31, 1.72],\n",
        "    ['Paula', 'Artista plástica', 30, 1.68],\n",
        "    ['Carla', 'Empresaria', 34, 1.62],\n",
        "    ['Catalina', 'Diseñadora de interiores', 28, 1.60],\n",
        "    ['Verónica', 'Médica', 32, 1.65],\n",
        "    ['Rocío', 'Arquitecta', 30, 1.68],\n",
        "    ['Juliana', 'Psicóloga', 29, 1.63],\n",
        "    ['Marina', 'Profesora de historia', 35, 1.57],\n",
        "    ['Valeria', 'Marinera', 31, 1.72],\n",
        "    ['Luciana', 'Diseñadora gráfica', 30, 1.68],\n",
        "    ['Mariana', 'Contadora', 34, 1.62],\n",
        "    ['Fernanda', 'Nutricionista', 28, 1.60],\n",
        "    ['Pamela', 'Fisioterapeuta', 32, 1.65],\n",
        "    ['Antonella', 'Modelo', 30, 1.68],\n",
        "    ['Jimena', 'Bailarina', 29, 1.63],\n",
        "    ['Gabriela', 'Ingeniera de telecomunicaciones', 35, 1.57],\n",
        "    ['Julieta', 'Escritora', 31, 1.72],\n",
        "    ['María José', 'Diseñadora de joyas', 98, 1.68],\n",
        "    ['Carolina', 'Traductora', 34, 1.62]\n",
        "]\n",
        "\n",
        "# Convertir la lista de nuevas filas en un DataFrame\n",
        "df_nuevas = pd.DataFrame(nuevas_filas, columns=['Nombre', 'Ocupacion', 'Edad', 'Altura'])\n",
        "\n",
        "# Calcular la columna \"Edad_Cuadrado\" en las nuevas filas\n",
        "df_nuevas['Edad_Cuadrado'] = df_nuevas['Edad'] ** 2\n",
        "\n",
        "# Concatenar las nuevas filas con el DataFrame original\n",
        "df = pd.concat([df, df_nuevas], ignore_index=True)\n",
        "\n",
        "# Mostrar el DataFrame actualizado\n",
        "print(df)"
      ],
      "metadata": {
        "colab": {
          "base_uri": "https://localhost:8080/"
        },
        "id": "dUC8kyei6vFK",
        "outputId": "97e929a3-55fa-4418-c4b8-78964ec7aa7f"
      },
      "execution_count": null,
      "outputs": [
        {
          "output_type": "stream",
          "name": "stdout",
          "text": [
            "        Nombre                        Ocupacion  Edad  Altura  Edad_Cuadrado\n",
            "0    Florencia               Diseñadora gráfica    27    1.55            729\n",
            "1     Carolina                           Médica    26    1.60            676\n",
            "2    Florencia                       Periodista    28    1.60            784\n",
            "3     Josefina                        Contadora    28    1.70            784\n",
            "4     Josefina                        Contadora    28    1.60            784\n",
            "5    Florencia               Diseñadora gráfica    27    1.55            729\n",
            "6    Valentina            Ingeniera de software    30    1.60            900\n",
            "7        Luisa                       Arquitecta    32    1.68           1024\n",
            "8       Andrea                        Psicóloga    29    1.63            841\n",
            "9        María              Profesora de música    35    1.57           1225\n",
            "10       Lucía                   Bióloga marina    31    1.72            961\n",
            "11       Laura                          Abogada    30    1.68            900\n",
            "12     Daniela                           Piloto    34    1.62           1156\n",
            "13   Alejandra                             Chef    27    1.55            729\n",
            "14    Patricia                           Actriz    25    1.58            625\n",
            "15    Gabriela                  Ingeniera civil    29    1.70            841\n",
            "16       Sofía               Diseñadora de moda    28    1.65            784\n",
            "17      Camila               Médica veterinaria    26    1.60            676\n",
            "18    Isabella                       Economista    31    1.68            961\n",
            "19         Ana             Periodista deportiva    29    1.63            841\n",
            "20     Marcela                        Fotógrafa    35    1.57           1225\n",
            "21     Natalia              Ingeniera eléctrica    31    1.72            961\n",
            "22       Paula                 Artista plástica    30    1.68            900\n",
            "23       Carla                       Empresaria    34    1.62           1156\n",
            "24    Catalina         Diseñadora de interiores    28    1.60            784\n",
            "25    Verónica                           Médica    32    1.65           1024\n",
            "26       Rocío                       Arquitecta    30    1.68            900\n",
            "27     Juliana                        Psicóloga    29    1.63            841\n",
            "28      Marina            Profesora de historia    35    1.57           1225\n",
            "29     Valeria                         Marinera    31    1.72            961\n",
            "30     Luciana               Diseñadora gráfica    30    1.68            900\n",
            "31     Mariana                        Contadora    34    1.62           1156\n",
            "32    Fernanda                    Nutricionista    28    1.60            784\n",
            "33      Pamela                   Fisioterapeuta    32    1.65           1024\n",
            "34   Antonella                           Modelo    30    1.68            900\n",
            "35      Jimena                        Bailarina    29    1.63            841\n",
            "36    Gabriela  Ingeniera de telecomunicaciones    35    1.57           1225\n",
            "37     Julieta                        Escritora    31    1.72            961\n",
            "38  María José              Diseñadora de joyas    98    1.68           9604\n",
            "39    Carolina                       Traductora    34    1.62           1156\n"
          ]
        }
      ]
    },
    {
      "cell_type": "markdown",
      "source": [
        "Calcular las frecuencias absolutas de las profesiones"
      ],
      "metadata": {
        "id": "UFpfTETBDV22"
      }
    },
    {
      "cell_type": "code",
      "source": [
        "frecuencias_profesiones = df['Ocupacion'].value_counts()\n",
        "print(frecuencias_profesiones)"
      ],
      "metadata": {
        "colab": {
          "base_uri": "https://localhost:8080/"
        },
        "id": "15ikBXdVDWlB",
        "outputId": "ad0226f8-3b66-4577-9488-10c799e13f78"
      },
      "execution_count": null,
      "outputs": [
        {
          "output_type": "stream",
          "name": "stdout",
          "text": [
            "Ocupacion\n",
            "Diseñadora gráfica                 3\n",
            "Contadora                          3\n",
            "Médica                             2\n",
            "Arquitecta                         2\n",
            "Psicóloga                          2\n",
            "Nutricionista                      1\n",
            "Empresaria                         1\n",
            "Diseñadora de interiores           1\n",
            "Profesora de historia              1\n",
            "Marinera                           1\n",
            "Modelo                             1\n",
            "Fisioterapeuta                     1\n",
            "Ingeniera eléctrica                1\n",
            "Bailarina                          1\n",
            "Ingeniera de telecomunicaciones    1\n",
            "Escritora                          1\n",
            "Diseñadora de joyas                1\n",
            "Artista plástica                   1\n",
            "Economista                         1\n",
            "Fotógrafa                          1\n",
            "Periodista deportiva               1\n",
            "Médica veterinaria                 1\n",
            "Diseñadora de moda                 1\n",
            "Ingeniera civil                    1\n",
            "Actriz                             1\n",
            "Chef                               1\n",
            "Piloto                             1\n",
            "Abogada                            1\n",
            "Bióloga marina                     1\n",
            "Profesora de música                1\n",
            "Ingeniera de software              1\n",
            "Periodista                         1\n",
            "Traductora                         1\n",
            "Name: count, dtype: int64\n"
          ]
        }
      ]
    },
    {
      "cell_type": "markdown",
      "source": [
        "##Obtener el promedio de edad"
      ],
      "metadata": {
        "id": "_otcwCfLDdXy"
      }
    },
    {
      "cell_type": "code",
      "source": [
        "promedio_edad = df['Edad'].mean()\n",
        "print(f\"Promedio de edad: {promedio_edad}\")"
      ],
      "metadata": {
        "colab": {
          "base_uri": "https://localhost:8080/"
        },
        "id": "nCjP-vj9DhaT",
        "outputId": "6db65c21-df3f-4f5f-e991-8dd41f29fb7b"
      },
      "execution_count": null,
      "outputs": [
        {
          "output_type": "stream",
          "name": "stdout",
          "text": [
            "Promedio de edad: 31.9\n"
          ]
        }
      ]
    },
    {
      "cell_type": "markdown",
      "source": [
        "##Obtener la edad más grande y el nombre de la mujer que la posee"
      ],
      "metadata": {
        "id": "E1CY3SebDqJ4"
      }
    },
    {
      "cell_type": "code",
      "source": [
        "edad_maxima = df['Edad'].max()\n",
        "mujer_mayor = df[df['Edad'] == edad_maxima]['Nombre'].values[0]\n",
        "print(f\"La mujer con la edad más grande es {mujer_mayor} con {edad_maxima} años.\")"
      ],
      "metadata": {
        "colab": {
          "base_uri": "https://localhost:8080/"
        },
        "id": "drLHrLuKDuuQ",
        "outputId": "10d6a100-f549-4eec-8380-c63f04da0ca0"
      },
      "execution_count": null,
      "outputs": [
        {
          "output_type": "stream",
          "name": "stdout",
          "text": [
            "La mujer con la edad más grande es María José con 98 años.\n"
          ]
        }
      ]
    },
    {
      "cell_type": "markdown",
      "source": [
        "##Obtener la desviación estándar de la edad"
      ],
      "metadata": {
        "id": "Bt7lLOJTEBER"
      }
    },
    {
      "cell_type": "code",
      "source": [
        "desviacion_edad = df['Edad'].std()\n",
        "print(f\"Desviación estándar de la edad: {desviacion_edad}\")"
      ],
      "metadata": {
        "colab": {
          "base_uri": "https://localhost:8080/"
        },
        "id": "tl-uy8-9EE5L",
        "outputId": "f433ee36-df62-4ec0-de6d-2db7481f8c02"
      },
      "execution_count": null,
      "outputs": [
        {
          "output_type": "stream",
          "name": "stdout",
          "text": [
            "Desviación estándar de la edad: 11.063453348751462\n"
          ]
        }
      ]
    },
    {
      "cell_type": "markdown",
      "source": [
        "##Crear una columna \"Jubilada\" (1 si >60 años, 0 si no)"
      ],
      "metadata": {
        "id": "RHgZrfutEM3q"
      }
    },
    {
      "cell_type": "code",
      "source": [
        "df['Jubilada'] = df['Edad'].apply(lambda x: 1 if x > 60 else 0)\n",
        "print(df)"
      ],
      "metadata": {
        "colab": {
          "base_uri": "https://localhost:8080/"
        },
        "id": "POubaHRSEOCa",
        "outputId": "fbe63de8-31a6-455e-facd-15e685aa6dfc"
      },
      "execution_count": null,
      "outputs": [
        {
          "output_type": "stream",
          "name": "stdout",
          "text": [
            "        Nombre                        Ocupacion  Edad  Altura  Edad_Cuadrado  \\\n",
            "0    Florencia               Diseñadora gráfica    27    1.55            729   \n",
            "1     Carolina                           Médica    26    1.60            676   \n",
            "2    Florencia                       Periodista    28    1.60            784   \n",
            "3     Josefina                        Contadora    28    1.70            784   \n",
            "4     Josefina                        Contadora    28    1.60            784   \n",
            "5    Florencia               Diseñadora gráfica    27    1.55            729   \n",
            "6    Valentina            Ingeniera de software    30    1.60            900   \n",
            "7        Luisa                       Arquitecta    32    1.68           1024   \n",
            "8       Andrea                        Psicóloga    29    1.63            841   \n",
            "9        María              Profesora de música    35    1.57           1225   \n",
            "10       Lucía                   Bióloga marina    31    1.72            961   \n",
            "11       Laura                          Abogada    30    1.68            900   \n",
            "12     Daniela                           Piloto    34    1.62           1156   \n",
            "13   Alejandra                             Chef    27    1.55            729   \n",
            "14    Patricia                           Actriz    25    1.58            625   \n",
            "15    Gabriela                  Ingeniera civil    29    1.70            841   \n",
            "16       Sofía               Diseñadora de moda    28    1.65            784   \n",
            "17      Camila               Médica veterinaria    26    1.60            676   \n",
            "18    Isabella                       Economista    31    1.68            961   \n",
            "19         Ana             Periodista deportiva    29    1.63            841   \n",
            "20     Marcela                        Fotógrafa    35    1.57           1225   \n",
            "21     Natalia              Ingeniera eléctrica    31    1.72            961   \n",
            "22       Paula                 Artista plástica    30    1.68            900   \n",
            "23       Carla                       Empresaria    34    1.62           1156   \n",
            "24    Catalina         Diseñadora de interiores    28    1.60            784   \n",
            "25    Verónica                           Médica    32    1.65           1024   \n",
            "26       Rocío                       Arquitecta    30    1.68            900   \n",
            "27     Juliana                        Psicóloga    29    1.63            841   \n",
            "28      Marina            Profesora de historia    35    1.57           1225   \n",
            "29     Valeria                         Marinera    31    1.72            961   \n",
            "30     Luciana               Diseñadora gráfica    30    1.68            900   \n",
            "31     Mariana                        Contadora    34    1.62           1156   \n",
            "32    Fernanda                    Nutricionista    28    1.60            784   \n",
            "33      Pamela                   Fisioterapeuta    32    1.65           1024   \n",
            "34   Antonella                           Modelo    30    1.68            900   \n",
            "35      Jimena                        Bailarina    29    1.63            841   \n",
            "36    Gabriela  Ingeniera de telecomunicaciones    35    1.57           1225   \n",
            "37     Julieta                        Escritora    31    1.72            961   \n",
            "38  María José              Diseñadora de joyas    98    1.68           9604   \n",
            "39    Carolina                       Traductora    34    1.62           1156   \n",
            "\n",
            "    Jubilada  \n",
            "0          0  \n",
            "1          0  \n",
            "2          0  \n",
            "3          0  \n",
            "4          0  \n",
            "5          0  \n",
            "6          0  \n",
            "7          0  \n",
            "8          0  \n",
            "9          0  \n",
            "10         0  \n",
            "11         0  \n",
            "12         0  \n",
            "13         0  \n",
            "14         0  \n",
            "15         0  \n",
            "16         0  \n",
            "17         0  \n",
            "18         0  \n",
            "19         0  \n",
            "20         0  \n",
            "21         0  \n",
            "22         0  \n",
            "23         0  \n",
            "24         0  \n",
            "25         0  \n",
            "26         0  \n",
            "27         0  \n",
            "28         0  \n",
            "29         0  \n",
            "30         0  \n",
            "31         0  \n",
            "32         0  \n",
            "33         0  \n",
            "34         0  \n",
            "35         0  \n",
            "36         0  \n",
            "37         0  \n",
            "38         1  \n",
            "39         0  \n"
          ]
        }
      ]
    },
    {
      "cell_type": "markdown",
      "source": [
        "##Contar la cantidad de jubiladas\n"
      ],
      "metadata": {
        "id": "dzSyVxWoEnK9"
      }
    },
    {
      "cell_type": "code",
      "source": [
        "cantidad_jubiladas = df['Jubilada'].sum()\n",
        "print(f\"Cantidad de jubiladas en el dataframe: {cantidad_jubiladas}\")"
      ],
      "metadata": {
        "colab": {
          "base_uri": "https://localhost:8080/"
        },
        "id": "3bLZ5kcXEqz8",
        "outputId": "76313068-8aba-4ccb-972a-05ed4c2e9d25"
      },
      "execution_count": null,
      "outputs": [
        {
          "output_type": "stream",
          "name": "stdout",
          "text": [
            "Cantidad de jubiladas en el dataframe: 1\n"
          ]
        }
      ]
    }
  ]
}