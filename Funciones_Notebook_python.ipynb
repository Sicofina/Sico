{
  "cells": [
    {
      "cell_type": "markdown",
      "metadata": {
        "id": "view-in-github",
        "colab_type": "text"
      },
      "source": [
        "<a href=\"https://colab.research.google.com/github/Sicofina/Sico/blob/main/Funciones_Notebook_python.ipynb\" target=\"_parent\"><img src=\"https://colab.research.google.com/assets/colab-badge.svg\" alt=\"Open In Colab\"/></a>"
      ]
    },
    {
      "cell_type": "markdown",
      "id": "ad191142",
      "metadata": {
        "id": "ad191142"
      },
      "source": [
        "# Funciones\n",
        "\n",
        "Son porciones reutilizables de código que pueden recibir **argumentos** y devolver un **valor** (o realizar una acción).\n",
        "\n",
        "## Definiendo funciones\n",
        "\n",
        "Para definir una función usamos la palabra reservada `def` le asignamos un nombre y luego dentro de los paréntesis le indicamos los nombres de los argumentos que se necesitan utilizar dentro de la función. Luego de cerrar los paréntesis se coloca un dos puntos (`:`) y comienza el bloque de código que es parte de la función."
      ]
    },
    {
      "cell_type": "code",
      "execution_count": 21,
      "id": "8971cd97",
      "metadata": {
        "id": "8971cd97"
      },
      "outputs": [],
      "source": [
        "def saludar():\n",
        "  print(\"Hola, soy una función de ejemplo!\")"
      ]
    },
    {
      "cell_type": "markdown",
      "id": "b3f339d9",
      "metadata": {
        "id": "b3f339d9"
      },
      "source": [
        "Cuando ejecutamos la definición de una función no vemos que Python nos devuelva nada. Eso es porque lo que está sucediendo es que Python reconoce las instrucciones que pusimos dentro de la función y ahora \"entiende\" que podemos ejecutar esas instrucciones cuando llamemos a la función.\n",
        "\n",
        "Para ejecutar la función basta con escribir su nombre (como lo hicimos con `print`) y pasarle los argumentos necesarios."
      ]
    },
    {
      "cell_type": "code",
      "execution_count": 22,
      "id": "dad5caf1",
      "metadata": {
        "colab": {
          "base_uri": "https://localhost:8080/"
        },
        "id": "dad5caf1",
        "outputId": "e371b130-1a87-4161-c375-de28044c09e6"
      },
      "outputs": [
        {
          "output_type": "stream",
          "name": "stdout",
          "text": [
            "Hola, soy una función de ejemplo!\n"
          ]
        }
      ],
      "source": [
        "saludar()"
      ]
    },
    {
      "cell_type": "markdown",
      "id": "3d3777a9",
      "metadata": {
        "id": "3d3777a9"
      },
      "source": [
        "Una vez definida la función existe en nuestro espacio de nombres, por lo tanto podemos usarla en otras funciones que definamos después."
      ]
    },
    {
      "cell_type": "code",
      "execution_count": 19,
      "id": "84348fa3",
      "metadata": {
        "id": "84348fa3"
      },
      "outputs": [],
      "source": [
        "def saludarx3():\n",
        "  saludar()\n",
        "  saludar()\n",
        "  saludar()"
      ]
    },
    {
      "cell_type": "code",
      "execution_count": 20,
      "id": "5ddb67dc",
      "metadata": {
        "colab": {
          "base_uri": "https://localhost:8080/"
        },
        "id": "5ddb67dc",
        "outputId": "9107210b-d0b9-436a-84f2-96077910b85d"
      },
      "outputs": [
        {
          "output_type": "stream",
          "name": "stdout",
          "text": [
            "Hola desconocido\n",
            "Hola desconocido\n",
            "Hola desconocido\n"
          ]
        }
      ],
      "source": [
        "saludarx3()"
      ]
    },
    {
      "cell_type": "markdown",
      "id": "119939c7",
      "metadata": {
        "id": "119939c7"
      },
      "source": [
        "## Argumentos\n",
        "\n",
        "Las funciones pueden admitir argumentos. La lista de argumentos va dentro de los paréntesis que están al lado de su nombre.\n",
        "\n",
        "Veamos el siguiente ejemplo:"
      ]
    },
    {
      "cell_type": "code",
      "execution_count": 5,
      "id": "233684bd",
      "metadata": {
        "id": "233684bd"
      },
      "outputs": [],
      "source": [
        "def bienvenida(nombre, edad):\n",
        "    print(f'Hola! Mi nombre es {nombre}, tengo {edad} años y estoy aprendiendo Python!')"
      ]
    },
    {
      "cell_type": "code",
      "execution_count": 7,
      "id": "d6a5ce3a",
      "metadata": {
        "colab": {
          "base_uri": "https://localhost:8080/"
        },
        "id": "d6a5ce3a",
        "outputId": "dc8cbf41-6e29-405c-c113-de9e8201763b"
      },
      "outputs": [
        {
          "output_type": "stream",
          "name": "stdout",
          "text": [
            "Hola! Mi nombre es 38, tengo Leandro años y estoy aprendiendo Python!\n"
          ]
        }
      ],
      "source": [
        "name = 38\n",
        "age = \"Leandro\"\n",
        "bienvenida(name, age)"
      ]
    },
    {
      "cell_type": "markdown",
      "id": "06fa6e45",
      "metadata": {
        "id": "06fa6e45"
      },
      "source": [
        "*   ¿Qué pasa si mandás al revés los argumentos?\n",
        "*   ¿Y si te olvidás de mandar uno?\n",
        "*   Definí una función que acepte 2 valores e imprima el producto de ambos.\n",
        "\n",
        "Usá el siguiente bloque de código para jugar y responder los puntos anteriores:"
      ]
    },
    {
      "cell_type": "code",
      "execution_count": 11,
      "id": "5dccef95",
      "metadata": {
        "id": "5dccef95"
      },
      "outputs": [],
      "source": [
        "def producto(x, y):\n",
        "    print(x * y)"
      ]
    },
    {
      "cell_type": "code",
      "execution_count": 12,
      "id": "90eec2ff",
      "metadata": {
        "colab": {
          "base_uri": "https://localhost:8080/"
        },
        "id": "90eec2ff",
        "outputId": "34809cd0-e012-4179-9c59-7a3f7a32a083"
      },
      "outputs": [
        {
          "output_type": "stream",
          "name": "stdout",
          "text": [
            "6\n"
          ]
        }
      ],
      "source": [
        "producto(2, 3)"
      ]
    },
    {
      "cell_type": "markdown",
      "id": "dd802051",
      "metadata": {
        "id": "dd802051"
      },
      "source": [
        "### Valores por defecto\n",
        "Podemos asignar valores por defecto a los argumentos, incluso puede ser nulo."
      ]
    },
    {
      "cell_type": "code",
      "execution_count": 13,
      "id": "b00fae5c",
      "metadata": {
        "id": "b00fae5c"
      },
      "outputs": [],
      "source": [
        "def saludar(name: str = None):\n",
        "  if name is None:\n",
        "    print('Hola desconocido')\n",
        "  else:\n",
        "    print(f'Hola {name}')"
      ]
    },
    {
      "cell_type": "code",
      "execution_count": 15,
      "id": "de5f5422",
      "metadata": {
        "colab": {
          "base_uri": "https://localhost:8080/"
        },
        "id": "de5f5422",
        "outputId": "fafcfa18-5d7f-4939-e6ed-b785cb8d80be"
      },
      "outputs": [
        {
          "output_type": "stream",
          "name": "stdout",
          "text": [
            "Hola desconocido\n"
          ]
        }
      ],
      "source": [
        "saludar()"
      ]
    },
    {
      "cell_type": "code",
      "execution_count": null,
      "id": "ac069df5",
      "metadata": {
        "id": "ac069df5"
      },
      "outputs": [],
      "source": [
        "saludar(name='Bruno')"
      ]
    },
    {
      "cell_type": "code",
      "execution_count": 16,
      "id": "5d034729",
      "metadata": {
        "colab": {
          "base_uri": "https://localhost:8080/"
        },
        "id": "5d034729",
        "outputId": "9c88533e-3925-43e0-e524-344f9444c079"
      },
      "outputs": [
        {
          "output_type": "stream",
          "name": "stdout",
          "text": [
            "Hola Juan\n"
          ]
        }
      ],
      "source": [
        "nombre = 'Juan'\n",
        "saludar(name=nombre)"
      ]
    },
    {
      "cell_type": "markdown",
      "id": "0460508a",
      "metadata": {
        "id": "0460508a"
      },
      "source": [
        "### Argumentos arbitrarios\n",
        "Cuando no sabemos la cantidad y nombre de los parámetros que queremos usar en la función, podemos anteponer un asterisco al argumento, de esa manera dentro de la función tendremos una tupla con todos los valores. Esto lo vemos mucho como la convención ***args**.\n",
        "\n",
        "Si usamos doble asterisco, podemos pasar el argumento como clave-valor. La convención en este caso es ****kwargs**."
      ]
    },
    {
      "cell_type": "code",
      "execution_count": 17,
      "id": "7b01b283",
      "metadata": {
        "id": "7b01b283"
      },
      "outputs": [],
      "source": [
        "def saludar_varios(*args, **kwargs):\n",
        "  for nombre in args:\n",
        "    print(f'Hola {nombre}')\n",
        "  for nombre_arg in kwargs:\n",
        "    print(f'{nombre_arg}: Hola {kwargs[nombre_arg]}')"
      ]
    },
    {
      "cell_type": "code",
      "execution_count": 18,
      "id": "8bcf5f36",
      "metadata": {
        "colab": {
          "base_uri": "https://localhost:8080/"
        },
        "id": "8bcf5f36",
        "outputId": "3a038b85-ece1-45e6-ad87-68d800ba02e6"
      },
      "outputs": [
        {
          "output_type": "stream",
          "name": "stdout",
          "text": [
            "Hola Bruno\n",
            "Hola Juan\n",
            "otro_nombre: Hola Pedro\n",
            "otro: Hola asd\n"
          ]
        }
      ],
      "source": [
        "saludar_varios('Bruno', 'Juan', otro_nombre='Pedro', otro='asd')"
      ]
    }
  ],
  "metadata": {
    "colab": {
      "provenance": [],
      "include_colab_link": true
    },
    "language_info": {
      "name": "python"
    },
    "kernelspec": {
      "name": "python3",
      "display_name": "Python 3"
    }
  },
  "nbformat": 4,
  "nbformat_minor": 5
}