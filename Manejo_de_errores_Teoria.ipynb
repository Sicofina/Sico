{
  "cells": [
    {
      "cell_type": "markdown",
      "metadata": {
        "id": "view-in-github",
        "colab_type": "text"
      },
      "source": [
        "<a href=\"https://colab.research.google.com/github/Sicofina/Sico/blob/main/Manejo_de_errores_Teoria.ipynb\" target=\"_parent\"><img src=\"https://colab.research.google.com/assets/colab-badge.svg\" alt=\"Open In Colab\"/></a>"
      ]
    },
    {
      "cell_type": "markdown",
      "id": "0cc731db",
      "metadata": {
        "id": "0cc731db"
      },
      "source": [
        "## Manejo de Errores - Teoría\n",
        "\n",
        "Cuando usamos una función incorrectamente, debería salir un error. Cuando escribimos nuestras propias funciones podemos detectar problemas específicos y escribir mensajes de error adecuados.\n",
        "\n",
        "Un error puede ser un **error de sintaxis** o una **excepción**."
      ]
    },
    {
      "cell_type": "markdown",
      "id": "c11f1b10",
      "metadata": {
        "id": "c11f1b10"
      },
      "source": [
        "### Error de Sintaxis\n",
        "Ocurren cuando el analizador detecta una declaración incorrecta."
      ]
    },
    {
      "cell_type": "code",
      "execution_count": null,
      "id": "59fc6c98",
      "metadata": {
        "id": "59fc6c98"
      },
      "outputs": [],
      "source": [
        "import numpy as np"
      ]
    },
    {
      "cell_type": "code",
      "execution_count": null,
      "id": "de1f875e",
      "metadata": {
        "id": "de1f875e"
      },
      "outputs": [],
      "source": [
        "random_values = list(np.random.randint(low=10, high=50, size=10))\n",
        "cube_random_values = list(map(lambda x: pow(x, 3), random_values))"
      ]
    },
    {
      "cell_type": "code",
      "execution_count": null,
      "id": "708eb723",
      "metadata": {
        "colab": {
          "base_uri": "https://localhost:8080/"
        },
        "id": "708eb723",
        "outputId": "1871e32d-4418-4ced-f213-3b6ca8cc150f"
      },
      "outputs": [
        {
          "output_type": "stream",
          "name": "stdout",
          "text": [
            "Para el valor: 29, el cubo es: 24389\n",
            "-----------------------------------------\n",
            "Para el valor: 15, el cubo es: 3375\n",
            "-----------------------------------------\n",
            "Para el valor: 22, el cubo es: 10648\n",
            "-----------------------------------------\n",
            "Para el valor: 45, el cubo es: 91125\n",
            "-----------------------------------------\n",
            "Para el valor: 25, el cubo es: 15625\n",
            "-----------------------------------------\n",
            "Para el valor: 42, el cubo es: 74088\n",
            "-----------------------------------------\n",
            "Para el valor: 29, el cubo es: 24389\n",
            "-----------------------------------------\n",
            "Para el valor: 17, el cubo es: 4913\n",
            "-----------------------------------------\n",
            "Para el valor: 30, el cubo es: 27000\n",
            "-----------------------------------------\n",
            "Para el valor: 27, el cubo es: 19683\n",
            "-----------------------------------------\n"
          ]
        }
      ],
      "source": [
        "for i, j in zip(random_values, cube_random_values):\n",
        "    print(f'Para el valor: {i}, el cubo es: {j}')\n",
        "    print('-----------------------------------------')"
      ]
    },
    {
      "cell_type": "markdown",
      "id": "938bbc15",
      "metadata": {
        "id": "938bbc15"
      },
      "source": [
        "Si eliminamos los dos puntos en una estructura de control, obtenemos un error de sintaxis."
      ]
    },
    {
      "cell_type": "code",
      "execution_count": null,
      "id": "ec49332c",
      "metadata": {
        "colab": {
          "base_uri": "https://localhost:8080/"
        },
        "id": "ec49332c",
        "outputId": "534e467b-b12a-424d-c1ea-c84069403118"
      },
      "outputs": [
        {
          "output_type": "stream",
          "name": "stdout",
          "text": [
            "Para el valor: 29, el cubo es: 24389\n",
            "-----------------------------------------\n",
            "Para el valor: 15, el cubo es: 3375\n",
            "-----------------------------------------\n",
            "Para el valor: 22, el cubo es: 10648\n",
            "-----------------------------------------\n",
            "Para el valor: 45, el cubo es: 91125\n",
            "-----------------------------------------\n",
            "Para el valor: 25, el cubo es: 15625\n",
            "-----------------------------------------\n",
            "Para el valor: 42, el cubo es: 74088\n",
            "-----------------------------------------\n",
            "Para el valor: 29, el cubo es: 24389\n",
            "-----------------------------------------\n",
            "Para el valor: 17, el cubo es: 4913\n",
            "-----------------------------------------\n",
            "Para el valor: 30, el cubo es: 27000\n",
            "-----------------------------------------\n",
            "Para el valor: 27, el cubo es: 19683\n",
            "-----------------------------------------\n"
          ]
        }
      ],
      "source": [
        "for i, j in zip(random_values, cube_random_values):\n",
        "    print(f'Para el valor: {i}, el cubo es: {j}')\n",
        "    print('-----------------------------------------')"
      ]
    },
    {
      "cell_type": "markdown",
      "id": "9381ec75",
      "metadata": {
        "id": "9381ec75"
      },
      "source": [
        "### Excepciones\n",
        "Este tipo de error ocurre siempre que el código Python sintácticamente correcto da como resultado un error.\n",
        "\n",
        "La última línea del mensaje indica el tipo de error de excepción con el que nos encontramos."
      ]
    },
    {
      "cell_type": "code",
      "execution_count": null,
      "id": "95aafda6",
      "metadata": {
        "id": "95aafda6"
      },
      "outputs": [],
      "source": [
        "def sqrt(x: int or float):\n",
        "    \"\"\" Devuelve la raíz cuadrada de un número. \"\"\"\n",
        "    return x ** 0.5"
      ]
    },
    {
      "cell_type": "code",
      "execution_count": null,
      "id": "24adbd74",
      "metadata": {
        "colab": {
          "base_uri": "https://localhost:8080/"
        },
        "id": "24adbd74",
        "outputId": "3a607758-7152-4de8-ca1d-6ba310d23395"
      },
      "outputs": [
        {
          "output_type": "execute_result",
          "data": {
            "text/plain": [
              "3.1622776601683795"
            ]
          },
          "metadata": {},
          "execution_count": 8
        }
      ],
      "source": [
        "sqrt(x=10)"
      ]
    },
    {
      "cell_type": "markdown",
      "id": "57bc43d5",
      "metadata": {
        "id": "57bc43d5"
      },
      "source": [
        "Para restringir la función a números no negativos, podemos usar `raise` para lanzar una excepción."
      ]
    },
    {
      "cell_type": "code",
      "execution_count": null,
      "id": "e2d3b5b9",
      "metadata": {
        "id": "e2d3b5b9"
      },
      "outputs": [],
      "source": [
        "def sqrt(x: int or float):\n",
        "    if x < 0:\n",
        "        raise ValueError('x no debe ser negativo')\n",
        "    return x ** 0.5"
      ]
    },
    {
      "cell_type": "code",
      "execution_count": null,
      "id": "0ba43ef3",
      "metadata": {
        "colab": {
          "base_uri": "https://localhost:8080/",
          "height": 245
        },
        "id": "0ba43ef3",
        "outputId": "96e037c0-a162-4da1-bde0-fe379d4f7135"
      },
      "outputs": [
        {
          "output_type": "error",
          "ename": "ValueError",
          "evalue": "x no debe ser negativo",
          "traceback": [
            "\u001b[0;31m---------------------------------------------------------------------------\u001b[0m",
            "\u001b[0;31mValueError\u001b[0m                                Traceback (most recent call last)",
            "\u001b[0;32m<ipython-input-11-dc0ac523cb01>\u001b[0m in \u001b[0;36m<cell line: 0>\u001b[0;34m()\u001b[0m\n\u001b[0;32m----> 1\u001b[0;31m \u001b[0msqrt\u001b[0m\u001b[0;34m(\u001b[0m\u001b[0;34m-\u001b[0m\u001b[0;36m1\u001b[0m\u001b[0;34m)\u001b[0m\u001b[0;34m\u001b[0m\u001b[0;34m\u001b[0m\u001b[0m\n\u001b[0m",
            "\u001b[0;32m<ipython-input-9-699e74781eab>\u001b[0m in \u001b[0;36msqrt\u001b[0;34m(x)\u001b[0m\n\u001b[1;32m      1\u001b[0m \u001b[0;32mdef\u001b[0m \u001b[0msqrt\u001b[0m\u001b[0;34m(\u001b[0m\u001b[0mx\u001b[0m\u001b[0;34m:\u001b[0m \u001b[0mint\u001b[0m \u001b[0;32mor\u001b[0m \u001b[0mfloat\u001b[0m\u001b[0;34m)\u001b[0m\u001b[0;34m:\u001b[0m\u001b[0;34m\u001b[0m\u001b[0;34m\u001b[0m\u001b[0m\n\u001b[1;32m      2\u001b[0m     \u001b[0;32mif\u001b[0m \u001b[0mx\u001b[0m \u001b[0;34m<\u001b[0m \u001b[0;36m0\u001b[0m\u001b[0;34m:\u001b[0m\u001b[0;34m\u001b[0m\u001b[0;34m\u001b[0m\u001b[0m\n\u001b[0;32m----> 3\u001b[0;31m         \u001b[0;32mraise\u001b[0m \u001b[0mValueError\u001b[0m\u001b[0;34m(\u001b[0m\u001b[0;34m'x no debe ser negativo'\u001b[0m\u001b[0;34m)\u001b[0m\u001b[0;34m\u001b[0m\u001b[0;34m\u001b[0m\u001b[0m\n\u001b[0m\u001b[1;32m      4\u001b[0m     \u001b[0;32mreturn\u001b[0m \u001b[0mx\u001b[0m \u001b[0;34m**\u001b[0m \u001b[0;36m0.5\u001b[0m\u001b[0;34m\u001b[0m\u001b[0;34m\u001b[0m\u001b[0m\n",
            "\u001b[0;31mValueError\u001b[0m: x no debe ser negativo"
          ]
        }
      ],
      "source": [
        "sqrt(-1)"
      ]
    },
    {
      "cell_type": "markdown",
      "id": "f21a4db4",
      "metadata": {
        "id": "f21a4db4"
      },
      "source": [
        "Podemos manejar excepciones usando `try` y `except`."
      ]
    },
    {
      "cell_type": "code",
      "execution_count": null,
      "id": "58f48b8e",
      "metadata": {
        "id": "58f48b8e"
      },
      "outputs": [],
      "source": [
        "def sqrt(x: int or float):\n",
        "    try:\n",
        "        if x < 0:\n",
        "            raise ValueError('x no debe ser negativo')\n",
        "        return x ** 0.5\n",
        "    except TypeError:\n",
        "        print('x debe ser un int o float')"
      ]
    },
    {
      "cell_type": "code",
      "execution_count": null,
      "id": "6d992f6c",
      "metadata": {
        "colab": {
          "base_uri": "https://localhost:8080/"
        },
        "id": "6d992f6c",
        "outputId": "f331e831-3961-4ae4-c0ad-4638f6ebf887"
      },
      "outputs": [
        {
          "output_type": "stream",
          "name": "stdout",
          "text": [
            "x debe ser un int o float\n"
          ]
        }
      ],
      "source": [
        "sqrt('1.5')"
      ]
    }
  ],
  "metadata": {
    "colab": {
      "provenance": [],
      "include_colab_link": true
    },
    "language_info": {
      "name": "python"
    },
    "kernelspec": {
      "name": "python3",
      "display_name": "Python 3"
    }
  },
  "nbformat": 4,
  "nbformat_minor": 5
}