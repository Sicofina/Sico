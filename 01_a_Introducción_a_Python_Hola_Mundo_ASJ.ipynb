{
  "cells": [
    {
      "cell_type": "markdown",
      "metadata": {
        "id": "view-in-github",
        "colab_type": "text"
      },
      "source": [
        "<a href=\"https://colab.research.google.com/github/Sicofina/Sico/blob/main/01_a_Introducci%C3%B3n_a_Python_Hola_Mundo_ASJ.ipynb\" target=\"_parent\"><img src=\"https://colab.research.google.com/assets/colab-badge.svg\" alt=\"Open In Colab\"/></a>"
      ]
    },
    {
      "cell_type": "markdown",
      "metadata": {
        "id": "_7WnLTBO9zLe"
      },
      "source": [
        "# El Famoso: \"Hola Mundo!\""
      ]
    },
    {
      "cell_type": "code",
      "metadata": {
        "id": "COFW88bo9zLe"
      },
      "source": [
        "print(\"Hola Mundo!!!\")"
      ],
      "outputs": [],
      "execution_count": null
    },
    {
      "cell_type": "markdown",
      "metadata": {
        "id": "ht-vFS5R9zLf"
      },
      "source": [
        "## Tu turno\n",
        "\n",
        "Ahora probá vos, hacé doble-click en la siguiente celda y escribí `print(\"Hola Mundo!\")`, después dale al botón de \"Play\":"
      ]
    },
    {
      "cell_type": "code",
      "metadata": {
        "colab": {
          "base_uri": "https://localhost:8080/"
        },
        "id": "oXd-Uqt59zLf",
        "outputId": "553bcec2-4d4a-4c7e-a81b-914aa18e5517"
      },
      "source": [
        "print(\"Aguante el cafeeeeeee!!!\")"
      ],
      "outputs": [
        {
          "output_type": "stream",
          "name": "stdout",
          "text": [
            "Aguante el cafeeeeeee!!!\n"
          ]
        }
      ],
      "execution_count": null
    },
    {
      "cell_type": "markdown",
      "metadata": {
        "id": "LQ0wqzuw9zLf"
      },
      "source": [
        "Felicitaciones! Acabás de realizar tu primer programa en **Python**."
      ]
    }
  ],
  "metadata": {
    "colab": {
      "provenance": [],
      "include_colab_link": true
    },
    "language_info": {
      "name": "python"
    },
    "kernelspec": {
      "name": "python3",
      "display_name": "Python 3"
    }
  },
  "nbformat": 4,
  "nbformat_minor": 0
}